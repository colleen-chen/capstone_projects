{
 "cells": [
  {
   "cell_type": "markdown",
   "metadata": {},
   "source": [
    "# 4.5.1 Unsupervised Learning Capstone\n",
    "For this project you'll dig into a large amount of text and apply most of what you've covered in this unit and in the course so far.\n",
    "\n",
    "First, pick a set of texts. This can be either a series of novels, chapters, or articles. Anything you'd like. It just has to have multiple entries of varying characteristics. At least 100 should be good. There should also be at least 10 different authors, but try to keep the texts related (either all on the same topic of from the same branch of literature - something to make classification a bit more difficult than obviously different subjects).\n",
    "\n",
    "This capstone can be an extension of your NLP challenge if you wish to use the same corpus. If you found problems with that data set that limited your analysis, however, it may be worth using what you learned to choose a new corpus. Reserve 25% of your corpus as a test set.\n",
    "\n",
    "The first technique is to create a series of clusters. Try several techniques and pick the one you think best represents your data. Make sure there is a narrative and reasoning around why you have chosen the given clusters. Are authors consistently grouped into the same cluster?\n",
    "\n",
    "Next, perform some unsupervised feature generation and selection using the techniques covered in this unit and elsewhere in the course. Using those features then build models to attempt to classify your texts by author. Try different permutations of unsupervised and supervised techniques to see which combinations have the best performance.\n",
    "\n",
    "Lastly return to your holdout group. Does your clustering on those members perform as you'd expect? Have your clusters remained stable or changed dramatically? What about your model? Is it's performance consistent?\n",
    "\n",
    "If there is a divergence in the relative stability of your model and your clusters, delve into why.\n",
    "\n",
    "Your end result should be a write up of how clustering and modeling compare for classifying your texts. What are the advantages of each? Why would you want to use one over the other? Approximately 3-5 pages is a good length for your write up, and remember to include visuals to help tell your story!"
   ]
  },
  {
   "cell_type": "code",
   "execution_count": 1,
   "metadata": {},
   "outputs": [],
   "source": [
    "# Necessary imports\n",
    "import numpy as np\n",
    "import pandas as pd\n",
    "import requests\n",
    "import re\n",
    "import spacy\n",
    "import sklearn"
   ]
  },
  {
   "cell_type": "markdown",
   "metadata": {},
   "source": [
    "## Text Selection\n",
    "For my selected texts, I decided to use the New York Times article API to get a selection of texts, all from December, every 10 years from 1960 to 2010. "
   ]
  },
  {
   "cell_type": "code",
   "execution_count": 2,
   "metadata": {
    "scrolled": false
   },
   "outputs": [],
   "source": [
    "nyt_api = '5cb4f9a5273b4fbf97ef0d7d01eb6273'\n",
    "# Get Requests to pull JSON data\n",
    "request_2010 = requests.get('http://api.nytimes.com/svc/archive/v1/2010/12.json?api-key=5cb4f9a5273b4fbf97ef0d7d01eb6273')\n",
    "request_2000 = requests.get('http://api.nytimes.com/svc/archive/v1/2000/12.json?api-key=5cb4f9a5273b4fbf97ef0d7d01eb6273')\n",
    "request_1990 = requests.get('http://api.nytimes.com/svc/archive/v1/1990/12.json?api-key=5cb4f9a5273b4fbf97ef0d7d01eb6273')\n",
    "request_1980 = requests.get('http://api.nytimes.com/svc/archive/v1/1980/12.json?api-key=5cb4f9a5273b4fbf97ef0d7d01eb6273')\n",
    "request_1970 = requests.get('http://api.nytimes.com/svc/archive/v1/1970/12.json?api-key=5cb4f9a5273b4fbf97ef0d7d01eb6273')\n",
    "request_1960 = requests.get('http://api.nytimes.com/svc/archive/v1/1960/12.json?api-key=5cb4f9a5273b4fbf97ef0d7d01eb6273')\n",
    "# Gathering responses from JSON data\n",
    "response_2010 = request_2010.json()\n",
    "response_2000 = request_2000.json()\n",
    "response_1990 = request_1990.json()\n",
    "response_1980 = request_1980.json()\n",
    "response_1970 = request_1970.json()\n",
    "response_1960 = request_1960.json()"
   ]
  },
  {
   "cell_type": "code",
   "execution_count": 3,
   "metadata": {},
   "outputs": [],
   "source": [
    "# Selecting document information from JSON\n",
    "docs_2010 = response_2010['response']['docs']\n",
    "docs_2000 = response_2000['response']['docs']\n",
    "docs_1990 = response_1990['response']['docs']\n",
    "docs_1980 = response_1980['response']['docs']\n",
    "docs_1970 = response_1970['response']['docs']\n",
    "docs_1960 = response_1960['response']['docs']"
   ]
  },
  {
   "cell_type": "markdown",
   "metadata": {},
   "source": [
    "Great, now that I've gathered the texts, let's see a sampling of a lead paragraph to see what we're getting into."
   ]
  },
  {
   "cell_type": "code",
   "execution_count": 4,
   "metadata": {},
   "outputs": [
    {
     "data": {
      "text/plain": [
       "\"Almost a month after rejecting PepsiCo's takeover offer as too low, the Quaker Oats Company is now close to reaching the same deal, to be acquired by PepsiCo for $13.7 billion, executives close to the negotiations said last night. The resumption of the talks follows a decision by Coca-Cola's board last week to abandon its $16 billion deal to buy Quaker Oats and its prize growth brand, Gatorade. That deal was scuttled at the 11th hour when a divided Coke board decided it would be paying too much for Quaker, the maker of Rice-A-Roni, Aunt Jemima and Cap'n Crunch.\""
      ]
     },
     "execution_count": 4,
     "metadata": {},
     "output_type": "execute_result"
    }
   ],
   "source": [
    "docs_2000[0]['lead_paragraph']"
   ]
  },
  {
   "cell_type": "markdown",
   "metadata": {},
   "source": [
    "Now, let's extract the lead paragraph from each of the first 100 articles from each year. "
   ]
  },
  {
   "cell_type": "code",
   "execution_count": 5,
   "metadata": {},
   "outputs": [],
   "source": [
    "nyt_2010 = ''\n",
    "for article in docs_2010[0:100]:\n",
    "    art = str(article['lead_paragraph'])\n",
    "    nyt_2010 = nyt_2010 + art\n",
    "\n",
    "nyt_2000 = ''\n",
    "for article in docs_2000[0:100]:\n",
    "    art = str(article['lead_paragraph'])\n",
    "    nyt_2000 = nyt_2000 + art\n",
    "\n",
    "nyt_1990 = ''\n",
    "for article in docs_1990[0:100]:\n",
    "    art = str(article['lead_paragraph'])\n",
    "    nyt_1990 = nyt_1990 + art\n",
    "\n",
    "nyt_1980 = ''\n",
    "for article in docs_1980[0:100]:\n",
    "    art = str(article['lead_paragraph'])\n",
    "    nyt_1980 = nyt_1980 + art\n",
    "\n",
    "nyt_1970 = ''\n",
    "for article in docs_1970[0:100]:\n",
    "    art = str(article['lead_paragraph'])\n",
    "    nyt_1970 = nyt_1970 + art\n",
    "\n",
    "nyt_1960 = ''\n",
    "for article in docs_1960[0:100]:\n",
    "    art = str(article['lead_paragraph'])\n",
    "    nyt_1960 = nyt_1960 + art"
   ]
  },
  {
   "cell_type": "code",
   "execution_count": 23,
   "metadata": {},
   "outputs": [],
   "source": [
    "def text_cleaner(text):\n",
    "    text = re.sub(r'--', ' ', text)\n",
    "    text = re.sub(r'\\d', '', text)\n",
    "    text = re.sub(r'\\.', '. ', text)\n",
    "    text = text.lower()\n",
    "    return text"
   ]
  },
  {
   "cell_type": "code",
   "execution_count": 27,
   "metadata": {
    "scrolled": true
   },
   "outputs": [
    {
     "name": "stdout",
     "output_type": "stream",
     "text": [
      "Dirty: Boulder’s Uptown, with its new shops and restaurants, is worth a visit.With 10 nods for his comeback album, \"Recovery,\" Eminem led the nominations for the 53rd annual Grammy Awards, which were announc\n",
      "\n",
      "Clean: boulder’s uptown, with its new shops and restaurants, is worth a visit. with  nods for his comeback album, \"recovery,\" eminem led the nominations for the rd annual grammy awards, which were announced on wednesday night in a televised ceremony from los angeles. the best-selling novelist brad meltzer leads a team of investigators in exploring mysteries of american history. nicholas d.  kristof visits a haitian cholera treatment center. nicholas d.  kristof reports from haiti about toilets that aim to address the sanitation problems that lead to cholera, while also providing fertilizer to help farmers. tuesday's meeting in tampa, fla. , between the yankees, derek jeter and his agent was set in motion when the agent, casey close, called hal steinbrenner, the team's managing partner, and suggested that the sides get together in an attempt to break jeter's contract stalemate. the pan american health organization has estimated that , haitians will get cholera over the next year.  nicholas d.  kristof visited a center treating those with the disease.\n"
     ]
    }
   ],
   "source": [
    "nlp = spacy.load('en')\n",
    "\n",
    "nyt_2010_doc = nlp(text_cleaner(nyt_2010))\n",
    "nyt_2000_doc = nlp(text_cleaner(nyt_2000))\n",
    "nyt_1990_doc = nlp(text_cleaner(nyt_1990))\n",
    "nyt_1980_doc = nlp(text_cleaner(nyt_1980))\n",
    "nyt_1970_doc = nlp(text_cleaner(nyt_1970))\n",
    "nyt_1960_doc = nlp(text_cleaner(nyt_1960))\n",
    "\n",
    "print('Dirty:', nyt_2010[0:200])\n",
    "print()\n",
    "print('Clean:', nyt_2010_doc[0:200])"
   ]
  },
  {
   "cell_type": "markdown",
   "metadata": {},
   "source": [
    "Now that we have the paragraphs for each year, let's clean the text, removing double dashes and numbers.  Then, let's combine all of the years together into one string."
   ]
  },
  {
   "cell_type": "code",
   "execution_count": null,
   "metadata": {},
   "outputs": [],
   "source": [
    "years = [nyt_2010, nyt_2000, nyt_1990, nyt_1980, nyt_1970, nyt_1960]\n",
    "nyt_all = ''\n",
    "for year in years:\n",
    "    nyt_all = nyt_all + year"
   ]
  },
  {
   "cell_type": "markdown",
   "metadata": {},
   "source": [
    "Just checking the length of all paragraphs."
   ]
  },
  {
   "cell_type": "code",
   "execution_count": 11,
   "metadata": {},
   "outputs": [
    {
     "data": {
      "text/plain": [
       "224856"
      ]
     },
     "execution_count": 11,
     "metadata": {},
     "output_type": "execute_result"
    }
   ],
   "source": [
    "len(nyt_all)"
   ]
  },
  {
   "cell_type": "markdown",
   "metadata": {},
   "source": [
    "Now, let's parse the cleaned paragraphs with spacy."
   ]
  },
  {
   "cell_type": "markdown",
   "metadata": {},
   "source": [
    "And group into sentences."
   ]
  },
  {
   "cell_type": "code",
   "execution_count": 33,
   "metadata": {},
   "outputs": [
    {
     "name": "stdout",
     "output_type": "stream",
     "text": [
      "[[6250203919658647129, 8777643931089885836, 3537922552554931340, 2355514407854807862, 8022691765955359053, 82546335403996757, 4303356597303500170, 17774862659366831948, 17283579609114212050, 8626295335712477701, 6042939320535660714, 6249630248276940353], boulder’s uptown, with its new shops and restaurants, is worth a visit. with  nods for his comeback album, \"recovery,\" eminem led the nominations for the rd annual grammy awards, which were announced on wednesday night in a televised ceremony from los angeles. the best-selling novelist brad meltzer leads a team of investigators in exploring mysteries of american history. nicholas d.  kristof visits a haitian cholera treatment center. nicholas d.  kristof reports from haiti about toilets that aim to address the sanitation problems that lead to cholera, while also providing fertilizer to help farmers. tuesday's meeting in tampa, fla. , between the yankees, derek jeter and his agent was set in motion when the agent, casey close, called hal steinbrenner, the team's managing partner, and suggested that the sides get together in an attempt to break jeter's contract stalemate. the pan american health organization has estimated that , haitians will get cholera over the next year.  nicholas d.  kristof visited a center treating those with the disease. it was just a little bantering between friends, but the text messages cliff lee exchanged tuesday with ian kinsler provided a glimpse into the bidding for his services, which are set to intensify next week at baseball's winter meetings. nonethere's a neat trick at work in joe krozel's puzzle: using the same clues for consecutive entries.  he does this three times at the top, in the middle and at the bottom. a view of the day in sports, from a world cup biathlon race to snowy soccer fields. in hong kong, where i lived until i was , most expat kids had more than one passport; spoke english, cantonese (curse words were the gateway) and at least one romance language; and we could emulate several accents convincingly.  we were well-designed for espionage. espn finally named dan shulman, bobby valentine and orel hershiser as its new \"sunday night baseball\" announcing team wednesday, three weeks after declining to renew the contracts of jon miller and joe morgan.  hershiser joined miller and morgan last season. fisk university in nashville, which wants to sell a $ million ownership stake in its stieglitz art collection to raise money, plans to appeal a court decision that set limits on the sale, the university announced on wednesday. as investors fret that google's $ billion bid for groupon is too high a price to pay, new details about the company's sales and growth suggest that it might be more like one of groupon's cut-rate deals. all signs continue to point to a strong holiday shopping season for online retailers, according to two surveys issued on wednesday.  consumers are in a buying mood - as long as the price is right and ordering requires no more than a few clicks of a computer mouse. a lady may no longer rule the house, but the ladies will be more comfortable while there. dick cheney is sponsoring a shakeup attempt at the republican national committee. the house ethics committee placed two of its attorneys on paid administrative leave last month for reported problems with their handling of the committee's investigation of representative maxine waters, a california democrat accused of helping steer bailout money to a bank in which her husband owned shares. hong kong - a bank whose customer base is larger than the population of the united states, a french cosmetics maker, a microlender and a chinese pharmaceutical company that makes an anticoagulant derived from pigs' guts: asian stock exchanges have seen it all this year. chanel at jeffrey new york; fingerless gloves; mackage opens a store in soho; and more. using a cellphone to shop on ebay is big in san francisco, along with most metropolitan areas.  but mobile commerce has yet to catch on in the west texas desert, most of south dakota and rural illinois. four candidates seeking to lead the republican national committee delivered their pitches at an open forum on wednesday, arguing that the party needs new direction and an aggressive focus on rebuilding a tattered fund-raising network if republicans hope to mount a credible challenge to president obama. on monday, the big east conference and texas christian university entered into a shotgun wedding.  beginning with the  season, t. c. u.  will join the conference in all sports, including football, where their team has just completed an undefeated regular season. finding just the right gift for the technology lover on your list might take a little research.  bettina edelstein gets the low-down on this season's popular camera trends from rik fairlie, a frequent contributor on the subject to the gadgetwise blog and the personal tech pages of the new york times. the historical media verticals of radio, television, print and web evaporate inside the frame of an ipad-it's all just content, backlighted and inviting, waiting for the swipe of a finger.  long-form narrative and news has found a reliable wing man in the ipad. directions: fill in the blanks in these paragraphs from the week in review article \"a's for good behavior. \"at the hands of today’s designers, the fair isle sweater has manned up and trimmed down, newly invigorated with the youthful spirit that brought it fame  years ago. in the awards game, the bagger is certain of one thing; don't discount the coen brothers.  (don't mess with them either; they have kind of a reputation. )harry smith had a meeting scheduled for the morning of tuesday, nov.   with sean mcmanus, the president of cbs news. sunday, nov.   [. s, . e, m]thomas f.  o'neill, a founder of sandler o'neill, is retiring from the investment bank to become chairman of ranieri partners financial services group, according to an internal e-mail obtained by dealbook.  here is the e-mail, which was sent to the bank's employees on wednesday afternoon:if you guessed that cathleen p.  black spent the day visiting two schools in queens - public school  in astoria, and p. s.   in long island city - give yourself two points. nonebill murray, patricia clarkson, anne hathaway and more turn out for the first movie awards of the season.  melena ryzik reports (and tries to calm jesse eisenberg's nerves. )if you needed a reason to keep balances low on credit cards without set spending limits, here's one. the federal reserve's data dump of more than , loan documents from the financial crisis provides a vivid reminder of how ugly it can get when the credit markets freeze up.  in order to get crucial overnight loans, hundreds of banks had nothing else to give the fed as collateral except junk-rated loans and bonds   valued at $.  trillion. brett gardner is scheduled to have surgery tuesday to treat the tendinitis in his right wrist that hampered him over the final four months of the season. justice department prosecutors have cleared senator john ensign of criminal allegations arising from his affair with an ex-aide and his effort to secure lobbying work for the ex-aide's husband, the senator's lawyers announced wednesday. the british artist matthew stone uses the rather obama-esque slogan \"optimism as cultural rebellion\" to describe his performance and photographic art.  for stone, the proto-manifesto suggests idealistic activism that he would like to inspire through his art.  more practically, it has lead the former collaborator with outré designer gareth pugh to organize a series of large-scale performances that combine greco-roman bacchanalia, joseph bueys-inspired performance art and the more ecstatic moments of rave culture.  we spoke with him following the november  performance of \"anatomy of immaterial worlds,\" his first \"shamanic opera\" at london's ica. the government's widening investigation of suspected insider trading is shaking up wall street and the hedge fund industry. : p. m.  | updatedsenate republicans have made a name for themselves by finding ways to block democratic legislation.  even when democrats controlled a big enough majority to muster the  votes needed to overcome filibusters, the republican leader, mitch mcconnell often found creative ways to slow down the legislative process, delaying the inevitable as long as possible. members of the house of representatives will not be pondering global warming on  speaker john a.  boehner's watch. last month i wrote about property owners driven to distraction by the noise of nearby wind turbines   including some in the island town of vinalhaven, me. from our colleagues at the bucks blog:watching the atlantic theater company's exquisite productions of \"the collection\" and \"a kind of alaska,\" two short plays by harold pinter, i almost forgot that the cast was speaking in a foreign language.  technically, of course, pinter wrote in english.  but as is true of most great dramatists, his syntax, locutions, rhythms and silences make up a sui generis grammar.  to navigate the treacherous, autonomous nation that is pinterland requires a thorough command of this exotic tongue. \"all right, bag me,\" lisa cholodenko said, standing outside the party for her film \"kids are all right\" on tuesday, smoking.  the bagger turned up to chat briefly - it was a two-party night - and, to our delight, ms.  cholodenko cut right to the chase. who: sam brocato: p. m.  | updated the directors of the nation's three nuclear laboratories said wednesday that they were satisfied with the obama administration's -year plan to modernize their facilities, a declaration democrats hope will clear republican obstacles to a new arms control treaty with russia. this time of year means parties.  and, for parents of fall athletes, awards banquets.  sometimes those are bonding times for families, but in the context of an already stressful time (a senior who is in the throes of college applications, for instance) and a difficult age (a senior who has lost a parent recently, and seems to be processing her grief by lashing out at her surviving parent) what should be simple and joyful can become a minefield. today we present our  best books of the year­ online (they will appear in print on dec.  ) - once again five works of fiction and five of nonfiction. the macquarie group, the australian investment bank, said on wednesday that it had hired a former senior energy banker from bear stearns to lead its oil and gas team. with the hour of his reckoning drawing near, representative charles b.  rangel on wednesday morning asked thousands of his supporters to call the capitol switchboard and ask their congressmen to vote against a measure that would censure him for an assortment of ethical violations. oprah winfrey's cable venture denied a report on wednesday that it was in talks to hire terry wood, a television guru who groomed phil mcgraw, rachael ray and other stars of syndication. it's friday night and the workweek might be over, but the night is still young.  \"when it comes down to fashion, we need to all look different,\" says the stylist keegan singh, who shares a chelsea apartment with the jeweler eddie borgo.  singh swaps an oversized brooks brothers blazer for a graeme armour cropped motorcycle jacket.  \"there are few girls that know how to do that. \" singh and the model harley viera-newton playfully sift through the dark, directional and chic spring  collection of armour, the former alexander mcqueen intern and up-and-coming designer.  \"he has that oomph i want to explore,\" gushes singh.  paired with a simple sleeveless calvin klein undershirt or a preppy st.  james top, \"my girl is someone with her own taste and thought on dressing,\" says armour.  \"someone like harley ticks all the boxes and makes it cool in her own way. \"photographs from romania, india and thailand. nonean executive producer of amc's series \"the walking dead,\" frank darabont, is shaking up the writing staff as he prepares for a second season of the post-apocalyptic zombie series. if you were to pick up a copy of the new york times  years ago, you would see a bit of a mess on the front page. a race is on for the chairmanship of the house science committee, but whatever the outcome, the post will clearly be held by a staunch opponent of mandatory caps on the emissions that contribute to global warming. via the stats of the states release from the national center for health statistics, here's a neat map showing the percentage of each state's adult residents who live in households with only wireless phones (i. e. , no landlines):pbs and nine of its local stations will benefit from a $.  million grant announced wednesday by the newman's own foundation, a charitable arm of the food products company started by paul newman. the san antonio spurs, in both success and failure, have long been a balancing act.  on one end, we have an establishment.  tim duncan is one of the best to ever lace up, and his style   deliberate, dominant, calculated   is perfectly in line with the philosophy of coach gregg popovich.  the two have functioned as the heart of the spurs for more than a decade, and their track record speaks for itself. overview | in this lesson, students consider how celebrities are using social media to build awareness about h. i. v.  and aids.  they then research the basic biology and epidemiology of h. i. v.  and aids, and develop their own social media campaigns to educate people about the virus and to generate support for h. i. v.  and aids advocacy. east rutherford, n. j.  - for weeks, left tackle david diehl expressed hope that his return to the giants was imminent, but he has been absent from practice.  on wednesday, however, he participated mostly in individual drills. los angeles- the competitive line-up for the  sundance film festival is heavy on off-the-wall stories, light on war documentaries and - for better or worse - nearly devoid of one of the festival's signature ingredients: stars.  as both a showcase for american cinema and a free-wheeling bazaar for movie executives, sundance is carefully scrutinized for signals about where independent movies are headed.  if these filmmakers represent the future, what's on their minds?photographs from romania, india and thailand. most pop stars don't go on the record the day after their album is released with specific sales projections.  but most aren't kanye west. a quick spin around the web on this windy day, which has already stopped trains, halted flights and snapped a -foot christmas tree at south street seaport [dnainfo]. sotheby's is no stranger to diamonds.  last month they sold the world's largest \"fancy intense pink diamond\" in geneva for a record $ million.  if that level of stone is too aspirational, the auction house is offering an alternative.  sotheby's diamonds, which was established in , and steinmetz diamond group are combining their expertise to provide exquisite jewels and gems directly to consumers.  patti wong, the chairwoman of sotheby's china and southeast asia, developed the retail division as a means for clients to acquire new diamonds like investments. the recent expansion of federal insider trading investigations has placed networks of outside experts at the center of the inquiry.  but the experts' motivation for disclosing nonpublic material isn't clear, and prosecutors may have a hard time proving the experts received any benefit or breached their fiduciary duty. the state dining room of the white house, with its crystal chandeliers and grand portrait of abraham lincoln, is not ordinarily a place for arts and crafts projects.  but on wednesday,  pairs of little hands were hard at work there, decorating gingerbread cookies, making holiday cards and glittery magazine trees under the supervision of the first lady, michelle obama. yes, kate middleton, england's soon-to-be princess, has yet to visit the colonial shores of manhattan for trousseau shopping.  but no worries: another princess arrived in manhattan this week. japan trendshop: eat your words, nearly: launch memo slices from haute memo pads in the shape of apples and pear cross sections, with tree-branch stems and printed seeds.  not to mention the bagel tape measure.  and those star wars light saber chopsticks.  - glenn collinsthe maldives are known for being a tourist destination, but an alarming number of its young people have become addicted to heroin. gov.  martin o'malley of maryland was elected chairman of the democratic governors association on wednesday.  he will preside over the next campaign cycle as democrats seek to rebuild from their widespread losses in the  midterm elections. an approach to bilingualism where speakers switch from one language to another. bondi digital - the company that took more than  years of new yorker issues and converted them into a browsable, searchable, full-page archive on cd-rom and a portable hard drive-has added a new magazine title to its list of clients.  playboy cover to cover is a portable hard drive that contains every issue from the first, in , to december .  it costs $. a recent post on bbc newsbeat blog indicated that angry birds, the wildly popular game for the ios and android, may be making the reverse leap from mobile to console gaming. last week dell released its new inspiron duo, a hybrid device that, through the cunning use of hinges, can go from a tablet to a keyboarded portable in a short flip. in my column on port, i talk about why i rarely drink port anymore.  i'm not alone.  port consumption is way down, but not nearly as low as you might expect. house lawmakers will vote thursday morning on whether to extend the bush-era tax cuts for the middle class - leaving the feud over whether to do the same for wealthy  americans up in the air. it's the rare wine list, if i may say so, that is dominated by bottles that i've never tried from producers i know little about.  the wine list at osteria morini, the new restaurant in soho just reviewed by my colleague sam sifton, is one such place.  the list is full of little-known wines (pdf) that will challenge even the most jaded italian palate. this is what the graphic designer marian bantjes's  first book, \"i wonder,\" published by the monacelli press, is not: it is not a conventional graphic design monograph that presents all the work that's fit to print; nor is it reductively minimalist in the modernist tradition, which is so common in today's design publishing.  it is not without a surfeit of excesses that would drive a modernist insane, nor is it modest in word or image.  what it is not could fill volumes. high winds and rain on wednesday have caused major delays at the area's airports and railroads. david brooks: gail, i've begun to worry about what you might call the caligula gap.  when you look around the world, or at least around the leaked state department cables, you see world leaders living full, decadent lives.  muammar el-qaddafi has his voluptuous ukrainian nurse.  vladimir putin has his power and his muscles.  silvio berlusconi has everything.  even aging saudi princes go around talking about cutting the heads off snakes, like clint eastwood movie characters. miami beach can barely accommodate the hordes of dealers, collectors, artists, designers, photographers, journalists and hangers-on that descend en masse for a quick pre-holiday sun and high-ticket spending. \"a publishing imprint seemed like natural progression after years of collaborating with artists on installations, interiors and various products,\" says claire darrow, the vice president and creative director for andre balazs properties, about the new standard press project.  this week, the hotel's in-house press, in collaboration with the milan-based publisher damiani, will release their first book, \"what me worry,\" a collection of graphs, e-mail messages and paintings by the artist andrew kuo. it's december! 'tis the season - not for holiday cheer, but for hacking.  the first-ever timesopen hack day is this saturday, december , and there are still some spots left: register while you can!photos from the first american sea launch of the aquariva, designed by marc newson; the white cube party at soho beach house; and bruce weber’s opening at moca. rome   two ancient walls fell in different areas of pompeii on wednesday, probably the casualties of heavy rains.  the collapses were the third and fourth in less than a month. it's on in missouri. in leaked cables americans express concern over the security of uranium in pakistan; heroin addiction in the maldives; and a report from the red carpet at the gotham independent film awards. nine protesters, some in bagel costumes, were arrested wednesday morning for blocking traffic outside the mayor's world aids day bagel breakfast at the brooklyn public library, the police said.  the demonstrators, from the nonprofit group housing works, were protesting what they called devastating cuts that the mayor proposes each year to city services for low-income people with aids, such as housing and nutrition, housing works said. will wilkinson makes the case for julian assange:in a case study we've just published, dalia fahmy writes about officedrop, a two-year-old document-scanning company based in boston.  prasad thammineni, chief executive, knew he would have to check employee backgrounds before giving them access to sensitive client documents, but it took him a while to find the right solution.  he eventually settled on a customized bundle offered by kroll background screening, which reviews a variety of federal and local criminal records, as well driving histories and credit reports (mr.  thammineni decided against requiring drug tests).  now, every new employee undergoes a background check after accepting a conditional job offer. \"our political sky still continues to grow more and more dark and threatening,\" the elderly statesman john jay wrote in .  \"whether the clouds will quietly disperse and disappear, or whether they portend a storm, is uncertain.  the present tempestuous state of the world does not encourage us to expect a long season of uninterrupted fair weather. \"if there were any concerns about \"the kids are all right\" being lost in the awards season shuffle because of its summer release date, a flurry of award nominations this week has quelled them.  the film, about a lesbian couple and their family from lisa cholodenko, received five independent spirit award nominations to go with its two gotham independent film award nods.  a strategic holiday dvd release date of nov.   has been beneficial, but the months-long publicity campaign to keep the movie in the public eye has also helped. a fund controlled by thomas h.  lee, the private equity pioneer, has been sued by the trustee seeking money for defrauded clients of bernard l.  madoff. ]\n",
      "We have 2147 sentences and 224856 tokens.\n"
     ]
    }
   ],
   "source": [
    "years = [nyt_2010_doc, nyt_2000_doc, nyt_1990_doc, nyt_1980_doc, nyt_1970_doc, nyt_1960_doc]\n",
    "sentences = []\n",
    "for year in years:\n",
    "    for sentence in year.sents:\n",
    "        sentence = [\n",
    "            token.lemma\n",
    "            for token in sentence\n",
    "            if not token.is_stop\n",
    "            and not token.is_punct\n",
    "        ]\n",
    "        sentences.append([sentence, year])\n",
    "\n",
    "print(sentences[2])\n",
    "print('We have {} sentences and {} tokens.'.format(len(sentences), len(nyt_all)))"
   ]
  },
  {
   "cell_type": "markdown",
   "metadata": {},
   "source": [
    "This still isn't working like I would expect...I'll keep going on this. "
   ]
  },
  {
   "cell_type": "code",
   "execution_count": null,
   "metadata": {},
   "outputs": [],
   "source": []
  }
 ],
 "metadata": {
  "kernelspec": {
   "display_name": "Python 3",
   "language": "python",
   "name": "python3"
  },
  "language_info": {
   "codemirror_mode": {
    "name": "ipython",
    "version": 3
   },
   "file_extension": ".py",
   "mimetype": "text/x-python",
   "name": "python",
   "nbconvert_exporter": "python",
   "pygments_lexer": "ipython3",
   "version": "3.6.2"
  }
 },
 "nbformat": 4,
 "nbformat_minor": 2
}
