{
 "cells": [
  {
   "cell_type": "markdown",
   "metadata": {},
   "source": [
    "# Gender Pay Gap: Predicting income based on demographic data\n",
    "\n",
    "## Abstract\n",
    "What are the biggest indicators of a person's income? Their education level? Race? Gender? Age? What are demographic indicators that improve a woman's pay versus a man's?\n",
    "\n",
    "For this project... "
   ]
  },
  {
   "cell_type": "markdown",
   "metadata": {},
   "source": [
    "## Introduction\n",
    "As a teacher of underserved populations, I routinely tell my students that education is their greatest source of upward mobility.  In reality, I don't have data to support that assertion.  My biggest question is what demographic factors are most important in increasing a person's income, and just how wide is the income gap for women, minorities, and those with lower levels of education?  A person cannot change most of these indicators, as those are the cards they are dealt in life, but of the ones they can change, how much of an impact does this have on income?\n",
    "\n",
    "The data I will be using is extacted from the [1994 census bureau database](http://www.census.gov/ftp/pub/DES/www/welcome.html).  This dataset contains census data from approximately 32,000 working people over the age of 16, who made over 100 dollars that year, and who are representative of the larger population.  For each of these people, the dataset tracks a person's age, native country, marital status, education, employment, capital gains and losses as well as the target variable, whether or not the person's income was over \\$50,000 for that year.  Note that according to [Saving.org](https://www.saving.org/inflation/inflation.php?amount=50,000&year=1994), due to inflation and cost of living increases, this amount in 1994 would be worth approximately $84,500 in 2018."
   ]
  },
  {
   "cell_type": "markdown",
   "metadata": {},
   "source": [
    "### Research Questions\n",
    "I will be attempting to answer the following questions:\n",
    "- What demographic data is the best determinant for a person's income to be over \\$50,000?\n",
    "- Do those features differ between men and women?\n",
    "- Do these features differe between white and non-white people?"
   ]
  },
  {
   "cell_type": "markdown",
   "metadata": {},
   "source": [
    "### Models\n",
    "To answer these questions, I will be using random forests, support vector machine classifier models, and logistic regression models."
   ]
  },
  {
   "cell_type": "markdown",
   "metadata": {},
   "source": [
    "## Imports"
   ]
  },
  {
   "cell_type": "code",
   "execution_count": 1,
   "metadata": {},
   "outputs": [],
   "source": [
    "# Necessary imports\n",
    "import numpy as np\n",
    "import pandas as pd\n",
    "import seaborn as sns\n",
    "import matplotlib.pyplot as plt\n",
    "%matplotlib inline\n",
    "sns.set(style='white', color_codes=True)\n",
    "\n",
    "# Ignore warnings\n",
    "import warnings\n",
    "warnings.filterwarnings('ignore')\n",
    "\n",
    "# Statistics\n",
    "from scipy.stats import chi2_contingency\n",
    "from scipy.stats import ttest_ind\n",
    "from sklearn.metrics import confusion_matrix\n",
    "from sklearn.metrics import classification_report\n",
    "\n",
    "# Cross validation \n",
    "from sklearn.model_selection import train_test_split\n",
    "from sklearn.model_selection import cross_val_score\n",
    "from sklearn.model_selection import GridSearchCV\n",
    "from sklearn.metrics import confusion_matrix\n",
    "from sklearn.metrics import classification_report\n",
    "\n",
    "# Model imports\n",
    "from sklearn.ensemble import RandomForestClassifier\n",
    "from sklearn.svm import SVC\n",
    "from sklearn.linear_model import LogisticRegression\n",
    "\n",
    "# Timer\n",
    "import time\n",
    "from scipy.special import expit"
   ]
  },
  {
   "cell_type": "markdown",
   "metadata": {},
   "source": [
    "## Uploading, Cleaning, and Describing Data"
   ]
  },
  {
   "cell_type": "code",
   "execution_count": 2,
   "metadata": {},
   "outputs": [
    {
     "data": {
      "text/html": [
       "<div>\n",
       "<style scoped>\n",
       "    .dataframe tbody tr th:only-of-type {\n",
       "        vertical-align: middle;\n",
       "    }\n",
       "\n",
       "    .dataframe tbody tr th {\n",
       "        vertical-align: top;\n",
       "    }\n",
       "\n",
       "    .dataframe thead th {\n",
       "        text-align: right;\n",
       "    }\n",
       "</style>\n",
       "<table border=\"1\" class=\"dataframe\">\n",
       "  <thead>\n",
       "    <tr style=\"text-align: right;\">\n",
       "      <th></th>\n",
       "      <th>age</th>\n",
       "      <th>workclass</th>\n",
       "      <th>fnlwgt</th>\n",
       "      <th>education</th>\n",
       "      <th>education_num</th>\n",
       "      <th>marital_status</th>\n",
       "      <th>occupation</th>\n",
       "      <th>relationship</th>\n",
       "      <th>race</th>\n",
       "      <th>sex</th>\n",
       "      <th>capital_gain</th>\n",
       "      <th>capital_loss</th>\n",
       "      <th>hours_per_week</th>\n",
       "      <th>native_country</th>\n",
       "      <th>income</th>\n",
       "    </tr>\n",
       "  </thead>\n",
       "  <tbody>\n",
       "    <tr>\n",
       "      <th>0</th>\n",
       "      <td>39</td>\n",
       "      <td>State-gov</td>\n",
       "      <td>77516</td>\n",
       "      <td>Bachelors</td>\n",
       "      <td>13</td>\n",
       "      <td>Never-married</td>\n",
       "      <td>Adm-clerical</td>\n",
       "      <td>Not-in-family</td>\n",
       "      <td>White</td>\n",
       "      <td>Male</td>\n",
       "      <td>2174</td>\n",
       "      <td>0</td>\n",
       "      <td>40</td>\n",
       "      <td>United-States</td>\n",
       "      <td>&lt;=50K</td>\n",
       "    </tr>\n",
       "    <tr>\n",
       "      <th>1</th>\n",
       "      <td>50</td>\n",
       "      <td>Self-emp-not-inc</td>\n",
       "      <td>83311</td>\n",
       "      <td>Bachelors</td>\n",
       "      <td>13</td>\n",
       "      <td>Married-civ-spouse</td>\n",
       "      <td>Exec-managerial</td>\n",
       "      <td>Husband</td>\n",
       "      <td>White</td>\n",
       "      <td>Male</td>\n",
       "      <td>0</td>\n",
       "      <td>0</td>\n",
       "      <td>13</td>\n",
       "      <td>United-States</td>\n",
       "      <td>&lt;=50K</td>\n",
       "    </tr>\n",
       "    <tr>\n",
       "      <th>2</th>\n",
       "      <td>38</td>\n",
       "      <td>Private</td>\n",
       "      <td>215646</td>\n",
       "      <td>HS-grad</td>\n",
       "      <td>9</td>\n",
       "      <td>Divorced</td>\n",
       "      <td>Handlers-cleaners</td>\n",
       "      <td>Not-in-family</td>\n",
       "      <td>White</td>\n",
       "      <td>Male</td>\n",
       "      <td>0</td>\n",
       "      <td>0</td>\n",
       "      <td>40</td>\n",
       "      <td>United-States</td>\n",
       "      <td>&lt;=50K</td>\n",
       "    </tr>\n",
       "    <tr>\n",
       "      <th>3</th>\n",
       "      <td>53</td>\n",
       "      <td>Private</td>\n",
       "      <td>234721</td>\n",
       "      <td>11th</td>\n",
       "      <td>7</td>\n",
       "      <td>Married-civ-spouse</td>\n",
       "      <td>Handlers-cleaners</td>\n",
       "      <td>Husband</td>\n",
       "      <td>Black</td>\n",
       "      <td>Male</td>\n",
       "      <td>0</td>\n",
       "      <td>0</td>\n",
       "      <td>40</td>\n",
       "      <td>United-States</td>\n",
       "      <td>&lt;=50K</td>\n",
       "    </tr>\n",
       "    <tr>\n",
       "      <th>4</th>\n",
       "      <td>28</td>\n",
       "      <td>Private</td>\n",
       "      <td>338409</td>\n",
       "      <td>Bachelors</td>\n",
       "      <td>13</td>\n",
       "      <td>Married-civ-spouse</td>\n",
       "      <td>Prof-specialty</td>\n",
       "      <td>Wife</td>\n",
       "      <td>Black</td>\n",
       "      <td>Female</td>\n",
       "      <td>0</td>\n",
       "      <td>0</td>\n",
       "      <td>40</td>\n",
       "      <td>Cuba</td>\n",
       "      <td>&lt;=50K</td>\n",
       "    </tr>\n",
       "  </tbody>\n",
       "</table>\n",
       "</div>"
      ],
      "text/plain": [
       "   age         workclass  fnlwgt  education  education_num  \\\n",
       "0   39         State-gov   77516  Bachelors             13   \n",
       "1   50  Self-emp-not-inc   83311  Bachelors             13   \n",
       "2   38           Private  215646    HS-grad              9   \n",
       "3   53           Private  234721       11th              7   \n",
       "4   28           Private  338409  Bachelors             13   \n",
       "\n",
       "       marital_status         occupation   relationship   race     sex  \\\n",
       "0       Never-married       Adm-clerical  Not-in-family  White    Male   \n",
       "1  Married-civ-spouse    Exec-managerial        Husband  White    Male   \n",
       "2            Divorced  Handlers-cleaners  Not-in-family  White    Male   \n",
       "3  Married-civ-spouse  Handlers-cleaners        Husband  Black    Male   \n",
       "4  Married-civ-spouse     Prof-specialty           Wife  Black  Female   \n",
       "\n",
       "   capital_gain  capital_loss  hours_per_week native_country income  \n",
       "0          2174             0              40  United-States  <=50K  \n",
       "1             0             0              13  United-States  <=50K  \n",
       "2             0             0              40  United-States  <=50K  \n",
       "3             0             0              40  United-States  <=50K  \n",
       "4             0             0              40           Cuba  <=50K  "
      ]
     },
     "execution_count": 2,
     "metadata": {},
     "output_type": "execute_result"
    }
   ],
   "source": [
    "# Column names from source documentation, and data separated by column and space\n",
    "inc_raw = pd.read_csv('adult.data.csv', header=None, sep=', ',\n",
    "                      names=['age','workclass','fnlwgt','education','education_num','marital_status',\n",
    "                             'occupation','relationship','race','sex','capital_gain',\n",
    "                            'capital_loss','hours_per_week','native_country','income'])\n",
    "inc_raw.head()"
   ]
  },
  {
   "cell_type": "code",
   "execution_count": 3,
   "metadata": {},
   "outputs": [
    {
     "name": "stdout",
     "output_type": "stream",
     "text": [
      "<class 'pandas.core.frame.DataFrame'>\n",
      "RangeIndex: 32561 entries, 0 to 32560\n",
      "Data columns (total 15 columns):\n",
      "age               32561 non-null int64\n",
      "workclass         32561 non-null object\n",
      "fnlwgt            32561 non-null int64\n",
      "education         32561 non-null object\n",
      "education_num     32561 non-null int64\n",
      "marital_status    32561 non-null object\n",
      "occupation        32561 non-null object\n",
      "relationship      32561 non-null object\n",
      "race              32561 non-null object\n",
      "sex               32561 non-null object\n",
      "capital_gain      32561 non-null int64\n",
      "capital_loss      32561 non-null int64\n",
      "hours_per_week    32561 non-null int64\n",
      "native_country    32561 non-null object\n",
      "income            32561 non-null object\n",
      "dtypes: int64(6), object(9)\n",
      "memory usage: 3.7+ MB\n"
     ]
    }
   ],
   "source": [
    "inc_raw.info()"
   ]
  },
  {
   "cell_type": "markdown",
   "metadata": {},
   "source": [
    "Based on this information, none of the columns have null values, and while 6 of the column entries are integer values, 9 of the column entries are categorical in nature.  Now, I will inspect the number of unique entries for each column to get a better sense of the data."
   ]
  },
  {
   "cell_type": "code",
   "execution_count": 4,
   "metadata": {},
   "outputs": [
    {
     "data": {
      "text/plain": [
       "age                  73\n",
       "workclass             9\n",
       "fnlwgt            21648\n",
       "education            16\n",
       "education_num        16\n",
       "marital_status        7\n",
       "occupation           15\n",
       "relationship          6\n",
       "race                  5\n",
       "sex                   2\n",
       "capital_gain        119\n",
       "capital_loss         92\n",
       "hours_per_week       94\n",
       "native_country       42\n",
       "income                2\n",
       "dtype: int64"
      ]
     },
     "execution_count": 4,
     "metadata": {},
     "output_type": "execute_result"
    }
   ],
   "source": [
    "inc_raw.nunique()"
   ]
  },
  {
   "cell_type": "markdown",
   "metadata": {},
   "source": [
    "Some initial observations I had while inspecting the number of unique entries:\n",
    "- The final weight column has the most unique values.  This column represents the number of people that an entry could represent.  This makes sense as to why this number is so large, because there is a large spread in the number of people who are similar to an entry.  In my analysis, I am not trying to model proportions of the population or total values for the population, I will drop this column from the data set.\n",
    "- The education and education number columns both have 16 unique values.  This is because the level of education is represented numerically by the education number column.  I will inspect this further, but will only use one column in my analysis.\n",
    "- There are 7 different marital status types, but 6 relationshp status types.  This is worth looking further into. \n",
    "- Capital gains and capital losses have a limited number of unique entries.  I would have expected more.  This tells me that there aren't many people who reported capital gains or losses this year. \n",
    "- A person's native country has 42 possible entries.  If I want to analyze this data based on immigrant status or race, I will likely need to make this category more broad. \n",
    "\n",
    "First, let's remove the final weight column from the data set."
   ]
  },
  {
   "cell_type": "code",
   "execution_count": 5,
   "metadata": {},
   "outputs": [],
   "source": [
    "inc = inc_raw.drop('fnlwgt', axis=1)"
   ]
  },
  {
   "cell_type": "markdown",
   "metadata": {},
   "source": [
    "Now, let's inspect the different values in each of the columns to get a better sense of what each column is describing and clean the data where necessary."
   ]
  },
  {
   "cell_type": "code",
   "execution_count": 6,
   "metadata": {
    "scrolled": false
   },
   "outputs": [
    {
     "data": {
      "text/plain": [
       "Private             22696\n",
       "Self-emp-not-inc     2541\n",
       "Local-gov            2093\n",
       "?                    1836\n",
       "State-gov            1298\n",
       "Self-emp-inc         1116\n",
       "Federal-gov           960\n",
       "Without-pay            14\n",
       "Never-worked            7\n",
       "Name: workclass, dtype: int64"
      ]
     },
     "execution_count": 6,
     "metadata": {},
     "output_type": "execute_result"
    }
   ],
   "source": [
    "inc.workclass.value_counts()"
   ]
  },
  {
   "cell_type": "markdown",
   "metadata": {},
   "source": [
    "This data set is very skewed in favor of employees of the private sector.  This makes sense because most of the work force is a part of the private sector.  There are also a good number of people employed by various governmnent entities, self-employed, and a small number either without pay or never worked.  I will combine this column into four more generalized groups:\n",
    "- Private\n",
    "- Government (including those employed by Local, State, and Federal Governments)\n",
    "- Self-employed (including incorporated or non-incorporated entrepreneurs)  \n",
    "- Not working  (including those working without pay and who never worked in the year)\n",
    "\n",
    "There is also about 5% of the data that has unknown working class. I will drop these entries because it is impossible to impute the data or take the mean of the type of work, and these make up such a small portion of the data, so should not impact the overall analysis."
   ]
  },
  {
   "cell_type": "code",
   "execution_count": 7,
   "metadata": {},
   "outputs": [
    {
     "data": {
      "text/plain": [
       "Private          22696\n",
       "Government        4351\n",
       "Self_employed     3657\n",
       "Not_working         21\n",
       "Name: workclass, dtype: int64"
      ]
     },
     "execution_count": 7,
     "metadata": {},
     "output_type": "execute_result"
    }
   ],
   "source": [
    "# Creating new data frame with updated working class categories\n",
    "inc = inc[inc['workclass'] != '?']\n",
    "inc.workclass = inc.workclass.map({'Private':'Private',\n",
    "                                   'Self-emp-not-inc':'Self_employed','Self-emp-inc':'Self_employed',\n",
    "                                    'Local-gov':'Government', 'State-gov':'Government', 'Federal-gov':'Government',\n",
    "                                    'Without-pay':'Not_working', 'Never-worked':'Not_working'})\n",
    "inc.workclass.value_counts()"
   ]
  },
  {
   "cell_type": "markdown",
   "metadata": {},
   "source": [
    "Great! Next, let's inspect the education number to make sure that maps to the categorical education column."
   ]
  },
  {
   "cell_type": "code",
   "execution_count": 8,
   "metadata": {},
   "outputs": [
    {
     "data": {
      "image/png": "[encoded data removed]",
      "text/plain": [
       "<matplotlib.figure.Figure at 0x114572a58>"
      ]
     },
     "metadata": {},
     "output_type": "display_data"
    }
   ],
   "source": [
    "# First, establish estimated order of education, then plot\n",
    "edu_order = ['Preschool','1st-4th','5th-6th','7th-8th','9th','10th','11th','HS-grad','Some-college',\n",
    "            'Assoc-voc','Assoc-acdm','Bachelors','Masters','Prof-school','Doctorate']\n",
    "plt.figure(figsize=(15,5))\n",
    "sns.barplot(x='education', y='education_num', data=inc, palette='Set2_r', order=edu_order)\n",
    "plt.xticks(rotation=45)\n",
    "plt.show()"
   ]
  },
  {
   "cell_type": "markdown",
   "metadata": {},
   "source": [
    "Yes, because there are no error bars on our plot, this indicates that education number indeed is directly correlated with the level of education.  Education number is an ordinal scale representing level of education because it doesn't indicate number of years of schooling, but rather the order of level achieved.  For our analyses, we will need either continuous or categorical dummies, so we will drop the education number column and later create dummies assuming we want this as a feature in our models."
   ]
  },
  {
   "cell_type": "code",
   "execution_count": 9,
   "metadata": {
    "scrolled": true
   },
   "outputs": [
    {
     "data": {
      "text/plain": [
       "HS-grad         9969\n",
       "Some-college    6777\n",
       "Bachelors       5182\n",
       "Masters         1675\n",
       "Assoc-voc       1321\n",
       "11th            1057\n",
       "Assoc-acdm      1020\n",
       "10th             833\n",
       "7th-8th          574\n",
       "Prof-school      558\n",
       "9th              463\n",
       "Doctorate        398\n",
       "12th             393\n",
       "5th-6th          303\n",
       "1st-4th          156\n",
       "Preschool         46\n",
       "Name: education, dtype: int64"
      ]
     },
     "execution_count": 9,
     "metadata": {},
     "output_type": "execute_result"
    }
   ],
   "source": [
    "# Dropping Numerical Education column\n",
    "inc = inc.drop('education_num', axis=1)\n",
    "\n",
    "inc.education.value_counts()"
   ]
  },
  {
   "cell_type": "markdown",
   "metadata": {},
   "source": [
    "Now there are a lot of categories with just a few people in them.  Let's generalize these categories to be the following:\n",
    "- Dropouts (all people who did not complete high school)\n",
    "- High School Graduates\n",
    "- Some College (people who attended college, and those who earned Associates Degrees)\n",
    "- Bachelors Degrees\n",
    "- Advanced Degrees (including all people who earned Masters, Professional Degrees, or Doctorates)"
   ]
  },
  {
   "cell_type": "code",
   "execution_count": 10,
   "metadata": {},
   "outputs": [
    {
     "data": {
      "text/plain": [
       "HS-grad            9969\n",
       "Some-college       9118\n",
       "Bachelors          5182\n",
       "Dropout            3432\n",
       "Advanced-degree    2631\n",
       "Name: education, dtype: int64"
      ]
     },
     "execution_count": 10,
     "metadata": {},
     "output_type": "execute_result"
    }
   ],
   "source": [
    "# Re-naming entries to generalize some of the smaller categories\n",
    "inc.education = inc.education.map({'Preschool':'Dropout',\n",
    "                                   '1st-4th':'Dropout',\n",
    "                                   '5th-6th':'Dropout',\n",
    "                                   '7th-8th':'Dropout',\n",
    "                                   '9th':'Dropout',\n",
    "                                   '10th':'Dropout',\n",
    "                                   '11th':'Dropout',\n",
    "                                   'HS-grad':'HS-grad',\n",
    "                                   'Some-college':'Some-college',\n",
    "                                   'Assoc-voc':'Some-college',\n",
    "                                   'Assoc-acdm':'Some-college',\n",
    "                                   'Bachelors':'Bachelors',\n",
    "                                   'Masters':'Advanced-degree',\n",
    "                                   'Prof-school':'Advanced-degree',\n",
    "                                   'Doctorate':'Advanced-degree'})\n",
    "inc.education.value_counts()"
   ]
  },
  {
   "cell_type": "markdown",
   "metadata": {},
   "source": [
    "Next, let's check out marital status and the different options in this column."
   ]
  },
  {
   "cell_type": "code",
   "execution_count": 11,
   "metadata": {},
   "outputs": [
    {
     "data": {
      "text/plain": [
       "Married-civ-spouse       14340\n",
       "Never-married             9917\n",
       "Divorced                  4259\n",
       "Separated                  959\n",
       "Widowed                    840\n",
       "Married-spouse-absent      389\n",
       "Married-AF-spouse           21\n",
       "Name: marital_status, dtype: int64"
      ]
     },
     "execution_count": 11,
     "metadata": {},
     "output_type": "execute_result"
    }
   ],
   "source": [
    "inc.marital_status.value_counts()"
   ]
  },
  {
   "cell_type": "markdown",
   "metadata": {},
   "source": [
    "Again, it looks like the majority of people are either married to civilians or never married, with a strong portion of people who were married but are now divorced. There are then people in categories with fewer people. These can be combined into three overall categories: \n",
    "- Never married\n",
    "- Married (including married to a civilian spouse, and married to a spouse in the Armed Forces)\n",
    "- No Longer Married (including divorced, separated, married to an absent spouse, and widowed)"
   ]
  },
  {
   "cell_type": "code",
   "execution_count": 12,
   "metadata": {},
   "outputs": [
    {
     "data": {
      "text/plain": [
       "Married              14361\n",
       "Never-married         9917\n",
       "No_longer_married     6447\n",
       "Name: marital_status, dtype: int64"
      ]
     },
     "execution_count": 12,
     "metadata": {},
     "output_type": "execute_result"
    }
   ],
   "source": [
    "inc.marital_status = inc.marital_status.map({'Married-civ-spouse':'Married', 'Married-AF-spouse':'Married',\n",
    "                                             'Divorced':'No_longer_married', 'Separated':'No_longer_married',\n",
    "                                             'Married-spouse-absent':'No_longer_married', 'Widowed':'No_longer_married',\n",
    "                                            'Never-married':'Never-married'})\n",
    "inc.marital_status.value_counts()"
   ]
  },
  {
   "cell_type": "markdown",
   "metadata": {},
   "source": [
    "Next, let's inspect the occupation options in this data set."
   ]
  },
  {
   "cell_type": "code",
   "execution_count": 13,
   "metadata": {},
   "outputs": [
    {
     "data": {
      "text/plain": [
       "Prof-specialty       4140\n",
       "Craft-repair         4099\n",
       "Exec-managerial      4066\n",
       "Adm-clerical         3770\n",
       "Sales                3650\n",
       "Other-service        3295\n",
       "Machine-op-inspct    2002\n",
       "Transport-moving     1597\n",
       "Handlers-cleaners    1370\n",
       "Farming-fishing       994\n",
       "Tech-support          928\n",
       "Protective-serv       649\n",
       "Priv-house-serv       149\n",
       "Armed-Forces            9\n",
       "?                       7\n",
       "Name: occupation, dtype: int64"
      ]
     },
     "execution_count": 13,
     "metadata": {},
     "output_type": "execute_result"
    }
   ],
   "source": [
    "inc.occupation.value_counts()"
   ]
  },
  {
   "cell_type": "markdown",
   "metadata": {},
   "source": [
    "It looks like there are still 7 people with unknown occupations.  I will drop these from the data set.  Otherwise, these categories are fairly distinct and, for the most part, individuals are evenly spread across all categories.  I will leave the rest as is for now, but I will keep in mind that there are a high number of different categories in this column that might be able to be condensed if needed."
   ]
  },
  {
   "cell_type": "code",
   "execution_count": 14,
   "metadata": {},
   "outputs": [],
   "source": [
    "inc = inc[inc.occupation != '?']"
   ]
  },
  {
   "cell_type": "markdown",
   "metadata": {},
   "source": [
    "Next, we have the relationship column.  From the head of the Data Frame, it is unclear what this column represents, but I will inspect the value counts in this column."
   ]
  },
  {
   "cell_type": "code",
   "execution_count": 15,
   "metadata": {},
   "outputs": [
    {
     "data": {
      "text/plain": [
       "Husband           12704\n",
       "Not-in-family      7865\n",
       "Own-child          4525\n",
       "Unmarried          3271\n",
       "Wife               1435\n",
       "Other-relative      918\n",
       "Name: relationship, dtype: int64"
      ]
     },
     "execution_count": 15,
     "metadata": {},
     "output_type": "execute_result"
    }
   ],
   "source": [
    "inc.relationship.value_counts()"
   ]
  },
  {
   "cell_type": "markdown",
   "metadata": {},
   "source": [
    "I'm unsure what these values mean for any given person.  For this reason, I will drop this column from the data set."
   ]
  },
  {
   "cell_type": "code",
   "execution_count": 16,
   "metadata": {},
   "outputs": [],
   "source": [
    "inc = inc.drop('relationship', axis=1)"
   ]
  },
  {
   "cell_type": "markdown",
   "metadata": {},
   "source": [
    "Next, I'll inspect the race column for its values."
   ]
  },
  {
   "cell_type": "code",
   "execution_count": 17,
   "metadata": {},
   "outputs": [
    {
     "name": "stdout",
     "output_type": "stream",
     "text": [
      "White                 26301\n",
      "Black                  2909\n",
      "Asian-Pac-Islander      974\n",
      "Amer-Indian-Eskimo      286\n",
      "Other                   248\n",
      "Name: race, dtype: int64\n"
     ]
    }
   ],
   "source": [
    "print(inc.race.value_counts())"
   ]
  },
  {
   "cell_type": "markdown",
   "metadata": {},
   "source": [
    "As expected, there is a higher number of people who are white than other minority races.  To reduce this class imbalance, I will simplify this column into white and non-white populations."
   ]
  },
  {
   "cell_type": "code",
   "execution_count": 18,
   "metadata": {},
   "outputs": [
    {
     "data": {
      "text/plain": [
       "White        26301\n",
       "Non-White     4417\n",
       "Name: race, dtype: int64"
      ]
     },
     "execution_count": 18,
     "metadata": {},
     "output_type": "execute_result"
    }
   ],
   "source": [
    "inc.race = inc.race.map({'White':'White', 'Black':'Non-White','Asian-Pac-Islander':'Non-White',\n",
    "                        'Amer-Indian-Eskimo':'Non-White','Other':'Non-White'})\n",
    "inc.race.value_counts()"
   ]
  },
  {
   "cell_type": "markdown",
   "metadata": {},
   "source": [
    "The sex column has two unique values, male and female.  We will leave this and continue on to capital gain and capital loss."
   ]
  },
  {
   "cell_type": "code",
   "execution_count": 19,
   "metadata": {},
   "outputs": [
    {
     "name": "stdout",
     "output_type": "stream",
     "text": [
      "Summary of Capital Gains:\n",
      "count    30718.000000\n",
      "mean      1106.037079\n",
      "std       7497.863364\n",
      "min          0.000000\n",
      "25%          0.000000\n",
      "50%          0.000000\n",
      "75%          0.000000\n",
      "max      99999.000000\n",
      "Name: capital_gain, dtype: float64\n",
      "\n",
      "Summary of Capital Losses:\n",
      "count    30718.000000\n",
      "mean        88.910216\n",
      "std        405.657203\n",
      "min          0.000000\n",
      "25%          0.000000\n",
      "50%          0.000000\n",
      "75%          0.000000\n",
      "max       4356.000000\n",
      "Name: capital_loss, dtype: float64\n"
     ]
    }
   ],
   "source": [
    "print('Summary of Capital Gains:')\n",
    "print(inc.capital_gain.describe())\n",
    "print('\\nSummary of Capital Losses:')\n",
    "print(inc.capital_loss.describe())"
   ]
  },
  {
   "cell_type": "markdown",
   "metadata": {},
   "source": [
    "Wow! Most people reported no capital gains or losses. The maximum capital gain is \\$99,999, or else this is a mistake. The largest capital loss is only \\$4,356. Let's inspect the maximum value of capital gains and how capital gains and capital losses are related to one another."
   ]
  },
  {
   "cell_type": "code",
   "execution_count": 20,
   "metadata": {},
   "outputs": [
    {
     "name": "stdout",
     "output_type": "stream",
     "text": [
      "Number of Entries with Capital Gain of $99,999: 155\n"
     ]
    },
    {
     "data": {
      "text/html": [
       "<div>\n",
       "<style scoped>\n",
       "    .dataframe tbody tr th:only-of-type {\n",
       "        vertical-align: middle;\n",
       "    }\n",
       "\n",
       "    .dataframe tbody tr th {\n",
       "        vertical-align: top;\n",
       "    }\n",
       "\n",
       "    .dataframe thead th {\n",
       "        text-align: right;\n",
       "    }\n",
       "</style>\n",
       "<table border=\"1\" class=\"dataframe\">\n",
       "  <thead>\n",
       "    <tr style=\"text-align: right;\">\n",
       "      <th></th>\n",
       "      <th>age</th>\n",
       "      <th>workclass</th>\n",
       "      <th>education</th>\n",
       "      <th>marital_status</th>\n",
       "      <th>occupation</th>\n",
       "      <th>race</th>\n",
       "      <th>sex</th>\n",
       "      <th>capital_gain</th>\n",
       "      <th>capital_loss</th>\n",
       "      <th>hours_per_week</th>\n",
       "      <th>native_country</th>\n",
       "      <th>income</th>\n",
       "    </tr>\n",
       "  </thead>\n",
       "  <tbody>\n",
       "    <tr>\n",
       "      <th>1246</th>\n",
       "      <td>54</td>\n",
       "      <td>Self_employed</td>\n",
       "      <td>Advanced-degree</td>\n",
       "      <td>Married</td>\n",
       "      <td>Prof-specialty</td>\n",
       "      <td>White</td>\n",
       "      <td>Male</td>\n",
       "      <td>99999</td>\n",
       "      <td>0</td>\n",
       "      <td>60</td>\n",
       "      <td>United-States</td>\n",
       "      <td>&gt;50K</td>\n",
       "    </tr>\n",
       "    <tr>\n",
       "      <th>1368</th>\n",
       "      <td>52</td>\n",
       "      <td>Private</td>\n",
       "      <td>HS-grad</td>\n",
       "      <td>Married</td>\n",
       "      <td>Exec-managerial</td>\n",
       "      <td>Non-White</td>\n",
       "      <td>Male</td>\n",
       "      <td>99999</td>\n",
       "      <td>0</td>\n",
       "      <td>40</td>\n",
       "      <td>Japan</td>\n",
       "      <td>&gt;50K</td>\n",
       "    </tr>\n",
       "    <tr>\n",
       "      <th>1482</th>\n",
       "      <td>53</td>\n",
       "      <td>Self_employed</td>\n",
       "      <td>HS-grad</td>\n",
       "      <td>Married</td>\n",
       "      <td>Sales</td>\n",
       "      <td>White</td>\n",
       "      <td>Male</td>\n",
       "      <td>99999</td>\n",
       "      <td>0</td>\n",
       "      <td>40</td>\n",
       "      <td>United-States</td>\n",
       "      <td>&gt;50K</td>\n",
       "    </tr>\n",
       "    <tr>\n",
       "      <th>1528</th>\n",
       "      <td>52</td>\n",
       "      <td>Private</td>\n",
       "      <td>Bachelors</td>\n",
       "      <td>Married</td>\n",
       "      <td>Exec-managerial</td>\n",
       "      <td>White</td>\n",
       "      <td>Male</td>\n",
       "      <td>99999</td>\n",
       "      <td>0</td>\n",
       "      <td>50</td>\n",
       "      <td>United-States</td>\n",
       "      <td>&gt;50K</td>\n",
       "    </tr>\n",
       "    <tr>\n",
       "      <th>1616</th>\n",
       "      <td>46</td>\n",
       "      <td>Private</td>\n",
       "      <td>Advanced-degree</td>\n",
       "      <td>Married</td>\n",
       "      <td>Prof-specialty</td>\n",
       "      <td>White</td>\n",
       "      <td>Male</td>\n",
       "      <td>99999</td>\n",
       "      <td>0</td>\n",
       "      <td>60</td>\n",
       "      <td>United-States</td>\n",
       "      <td>&gt;50K</td>\n",
       "    </tr>\n",
       "  </tbody>\n",
       "</table>\n",
       "</div>"
      ],
      "text/plain": [
       "      age      workclass        education marital_status       occupation  \\\n",
       "1246   54  Self_employed  Advanced-degree        Married   Prof-specialty   \n",
       "1368   52        Private          HS-grad        Married  Exec-managerial   \n",
       "1482   53  Self_employed          HS-grad        Married            Sales   \n",
       "1528   52        Private        Bachelors        Married  Exec-managerial   \n",
       "1616   46        Private  Advanced-degree        Married   Prof-specialty   \n",
       "\n",
       "           race   sex  capital_gain  capital_loss  hours_per_week  \\\n",
       "1246      White  Male         99999             0              60   \n",
       "1368  Non-White  Male         99999             0              40   \n",
       "1482      White  Male         99999             0              40   \n",
       "1528      White  Male         99999             0              50   \n",
       "1616      White  Male         99999             0              60   \n",
       "\n",
       "     native_country income  \n",
       "1246  United-States   >50K  \n",
       "1368          Japan   >50K  \n",
       "1482  United-States   >50K  \n",
       "1528  United-States   >50K  \n",
       "1616  United-States   >50K  "
      ]
     },
     "execution_count": 20,
     "metadata": {},
     "output_type": "execute_result"
    }
   ],
   "source": [
    "print('Number of Entries with Capital Gain of $99,999:', len(inc[inc.capital_gain >= 99999]))\n",
    "inc[inc.capital_gain >= 99999].head()"
   ]
  },
  {
   "cell_type": "markdown",
   "metadata": {},
   "source": [
    "There are 155 entries where the capital gains are \\$99,999.  These all coincide with the income value of over \\$50,000, making these values plausible.  For now, I will keep these plausible entries, but I will keep in mind that there is this set of outliers in capital gains, and I will consider turning this column into a categorical variable with bins to capture the differences in capital gains. \n",
    "\n",
    "Now, let's take a look at the largest values of capital losses."
   ]
  },
  {
   "cell_type": "code",
   "execution_count": 21,
   "metadata": {},
   "outputs": [
    {
     "data": {
      "text/html": [
       "<div>\n",
       "<style scoped>\n",
       "    .dataframe tbody tr th:only-of-type {\n",
       "        vertical-align: middle;\n",
       "    }\n",
       "\n",
       "    .dataframe tbody tr th {\n",
       "        vertical-align: top;\n",
       "    }\n",
       "\n",
       "    .dataframe thead th {\n",
       "        text-align: right;\n",
       "    }\n",
       "</style>\n",
       "<table border=\"1\" class=\"dataframe\">\n",
       "  <thead>\n",
       "    <tr style=\"text-align: right;\">\n",
       "      <th></th>\n",
       "      <th>age</th>\n",
       "      <th>workclass</th>\n",
       "      <th>education</th>\n",
       "      <th>marital_status</th>\n",
       "      <th>occupation</th>\n",
       "      <th>race</th>\n",
       "      <th>sex</th>\n",
       "      <th>capital_gain</th>\n",
       "      <th>capital_loss</th>\n",
       "      <th>hours_per_week</th>\n",
       "      <th>native_country</th>\n",
       "      <th>income</th>\n",
       "    </tr>\n",
       "  </thead>\n",
       "  <tbody>\n",
       "    <tr>\n",
       "      <th>11902</th>\n",
       "      <td>34</td>\n",
       "      <td>Private</td>\n",
       "      <td>HS-grad</td>\n",
       "      <td>No_longer_married</td>\n",
       "      <td>Other-service</td>\n",
       "      <td>White</td>\n",
       "      <td>Female</td>\n",
       "      <td>0</td>\n",
       "      <td>3770</td>\n",
       "      <td>45</td>\n",
       "      <td>United-States</td>\n",
       "      <td>&lt;=50K</td>\n",
       "    </tr>\n",
       "    <tr>\n",
       "      <th>12600</th>\n",
       "      <td>74</td>\n",
       "      <td>Government</td>\n",
       "      <td>Advanced-degree</td>\n",
       "      <td>Never-married</td>\n",
       "      <td>Prof-specialty</td>\n",
       "      <td>White</td>\n",
       "      <td>Female</td>\n",
       "      <td>0</td>\n",
       "      <td>3683</td>\n",
       "      <td>20</td>\n",
       "      <td>United-States</td>\n",
       "      <td>&gt;50K</td>\n",
       "    </tr>\n",
       "    <tr>\n",
       "      <th>14756</th>\n",
       "      <td>82</td>\n",
       "      <td>Private</td>\n",
       "      <td>HS-grad</td>\n",
       "      <td>No_longer_married</td>\n",
       "      <td>Exec-managerial</td>\n",
       "      <td>White</td>\n",
       "      <td>Female</td>\n",
       "      <td>0</td>\n",
       "      <td>4356</td>\n",
       "      <td>18</td>\n",
       "      <td>United-States</td>\n",
       "      <td>&lt;=50K</td>\n",
       "    </tr>\n",
       "    <tr>\n",
       "      <th>15942</th>\n",
       "      <td>38</td>\n",
       "      <td>Private</td>\n",
       "      <td>Dropout</td>\n",
       "      <td>No_longer_married</td>\n",
       "      <td>Adm-clerical</td>\n",
       "      <td>White</td>\n",
       "      <td>Male</td>\n",
       "      <td>0</td>\n",
       "      <td>3770</td>\n",
       "      <td>40</td>\n",
       "      <td>United-States</td>\n",
       "      <td>&lt;=50K</td>\n",
       "    </tr>\n",
       "    <tr>\n",
       "      <th>20416</th>\n",
       "      <td>54</td>\n",
       "      <td>Private</td>\n",
       "      <td>Dropout</td>\n",
       "      <td>No_longer_married</td>\n",
       "      <td>Machine-op-inspct</td>\n",
       "      <td>White</td>\n",
       "      <td>Female</td>\n",
       "      <td>0</td>\n",
       "      <td>3900</td>\n",
       "      <td>40</td>\n",
       "      <td>United-States</td>\n",
       "      <td>&lt;=50K</td>\n",
       "    </tr>\n",
       "    <tr>\n",
       "      <th>23054</th>\n",
       "      <td>68</td>\n",
       "      <td>Government</td>\n",
       "      <td>HS-grad</td>\n",
       "      <td>No_longer_married</td>\n",
       "      <td>Prof-specialty</td>\n",
       "      <td>White</td>\n",
       "      <td>Female</td>\n",
       "      <td>0</td>\n",
       "      <td>3683</td>\n",
       "      <td>40</td>\n",
       "      <td>United-States</td>\n",
       "      <td>&lt;=50K</td>\n",
       "    </tr>\n",
       "    <tr>\n",
       "      <th>23802</th>\n",
       "      <td>41</td>\n",
       "      <td>Private</td>\n",
       "      <td>Some-college</td>\n",
       "      <td>No_longer_married</td>\n",
       "      <td>Prof-specialty</td>\n",
       "      <td>White</td>\n",
       "      <td>Female</td>\n",
       "      <td>0</td>\n",
       "      <td>3900</td>\n",
       "      <td>40</td>\n",
       "      <td>United-States</td>\n",
       "      <td>&lt;=50K</td>\n",
       "    </tr>\n",
       "  </tbody>\n",
       "</table>\n",
       "</div>"
      ],
      "text/plain": [
       "       age   workclass        education     marital_status         occupation  \\\n",
       "11902   34     Private          HS-grad  No_longer_married      Other-service   \n",
       "12600   74  Government  Advanced-degree      Never-married     Prof-specialty   \n",
       "14756   82     Private          HS-grad  No_longer_married    Exec-managerial   \n",
       "15942   38     Private          Dropout  No_longer_married       Adm-clerical   \n",
       "20416   54     Private          Dropout  No_longer_married  Machine-op-inspct   \n",
       "23054   68  Government          HS-grad  No_longer_married     Prof-specialty   \n",
       "23802   41     Private     Some-college  No_longer_married     Prof-specialty   \n",
       "\n",
       "        race     sex  capital_gain  capital_loss  hours_per_week  \\\n",
       "11902  White  Female             0          3770              45   \n",
       "12600  White  Female             0          3683              20   \n",
       "14756  White  Female             0          4356              18   \n",
       "15942  White    Male             0          3770              40   \n",
       "20416  White  Female             0          3900              40   \n",
       "23054  White  Female             0          3683              40   \n",
       "23802  White  Female             0          3900              40   \n",
       "\n",
       "      native_country income  \n",
       "11902  United-States  <=50K  \n",
       "12600  United-States   >50K  \n",
       "14756  United-States  <=50K  \n",
       "15942  United-States  <=50K  \n",
       "20416  United-States  <=50K  \n",
       "23054  United-States  <=50K  \n",
       "23802  United-States  <=50K  "
      ]
     },
     "execution_count": 21,
     "metadata": {},
     "output_type": "execute_result"
    }
   ],
   "source": [
    "inc[inc.capital_loss >= 3500]"
   ]
  },
  {
   "cell_type": "markdown",
   "metadata": {},
   "source": [
    "It looks like these values are reasonable, and, again, down the line I will consider binning this variable if impactful for the model.\n",
    "\n",
    "Next, let's make sure that hours per week look reasonable."
   ]
  },
  {
   "cell_type": "code",
   "execution_count": 22,
   "metadata": {},
   "outputs": [
    {
     "data": {
      "text/plain": [
       "count    30718.000000\n",
       "mean        40.949313\n",
       "std         11.985382\n",
       "min          1.000000\n",
       "25%         40.000000\n",
       "50%         40.000000\n",
       "75%         45.000000\n",
       "max         99.000000\n",
       "Name: hours_per_week, dtype: float64"
      ]
     },
     "execution_count": 22,
     "metadata": {},
     "output_type": "execute_result"
    }
   ],
   "source": [
    "inc.hours_per_week.describe()"
   ]
  },
  {
   "cell_type": "markdown",
   "metadata": {},
   "source": [
    "As expected for the United States, the mean hours per week is just over 40 hours per week.  Interestingly, the minimum is 1 hour per week, and the maximum is 99 hours per week.  Let's take a look at those two cases to ensure that those are valid data points."
   ]
  },
  {
   "cell_type": "code",
   "execution_count": 23,
   "metadata": {},
   "outputs": [
    {
     "data": {
      "text/html": [
       "<div>\n",
       "<style scoped>\n",
       "    .dataframe tbody tr th:only-of-type {\n",
       "        vertical-align: middle;\n",
       "    }\n",
       "\n",
       "    .dataframe tbody tr th {\n",
       "        vertical-align: top;\n",
       "    }\n",
       "\n",
       "    .dataframe thead th {\n",
       "        text-align: right;\n",
       "    }\n",
       "</style>\n",
       "<table border=\"1\" class=\"dataframe\">\n",
       "  <thead>\n",
       "    <tr style=\"text-align: right;\">\n",
       "      <th></th>\n",
       "      <th>age</th>\n",
       "      <th>workclass</th>\n",
       "      <th>education</th>\n",
       "      <th>marital_status</th>\n",
       "      <th>occupation</th>\n",
       "      <th>race</th>\n",
       "      <th>sex</th>\n",
       "      <th>capital_gain</th>\n",
       "      <th>capital_loss</th>\n",
       "      <th>hours_per_week</th>\n",
       "      <th>native_country</th>\n",
       "      <th>income</th>\n",
       "    </tr>\n",
       "  </thead>\n",
       "  <tbody>\n",
       "    <tr>\n",
       "      <th>189</th>\n",
       "      <td>58</td>\n",
       "      <td>Government</td>\n",
       "      <td>Advanced-degree</td>\n",
       "      <td>Married</td>\n",
       "      <td>Prof-specialty</td>\n",
       "      <td>White</td>\n",
       "      <td>Male</td>\n",
       "      <td>0</td>\n",
       "      <td>0</td>\n",
       "      <td>1</td>\n",
       "      <td>United-States</td>\n",
       "      <td>&gt;50K</td>\n",
       "    </tr>\n",
       "    <tr>\n",
       "      <th>1036</th>\n",
       "      <td>66</td>\n",
       "      <td>Self_employed</td>\n",
       "      <td>Dropout</td>\n",
       "      <td>Married</td>\n",
       "      <td>Exec-managerial</td>\n",
       "      <td>White</td>\n",
       "      <td>Male</td>\n",
       "      <td>1409</td>\n",
       "      <td>0</td>\n",
       "      <td>1</td>\n",
       "      <td>?</td>\n",
       "      <td>&lt;=50K</td>\n",
       "    </tr>\n",
       "    <tr>\n",
       "      <th>11451</th>\n",
       "      <td>27</td>\n",
       "      <td>Private</td>\n",
       "      <td>HS-grad</td>\n",
       "      <td>Never-married</td>\n",
       "      <td>Machine-op-inspct</td>\n",
       "      <td>White</td>\n",
       "      <td>Male</td>\n",
       "      <td>0</td>\n",
       "      <td>0</td>\n",
       "      <td>1</td>\n",
       "      <td>United-States</td>\n",
       "      <td>&lt;=50K</td>\n",
       "    </tr>\n",
       "    <tr>\n",
       "      <th>19750</th>\n",
       "      <td>23</td>\n",
       "      <td>Private</td>\n",
       "      <td>HS-grad</td>\n",
       "      <td>Never-married</td>\n",
       "      <td>Craft-repair</td>\n",
       "      <td>Non-White</td>\n",
       "      <td>Male</td>\n",
       "      <td>0</td>\n",
       "      <td>0</td>\n",
       "      <td>1</td>\n",
       "      <td>Vietnam</td>\n",
       "      <td>&lt;=50K</td>\n",
       "    </tr>\n",
       "    <tr>\n",
       "      <th>20909</th>\n",
       "      <td>77</td>\n",
       "      <td>Self_employed</td>\n",
       "      <td>Some-college</td>\n",
       "      <td>No_longer_married</td>\n",
       "      <td>Adm-clerical</td>\n",
       "      <td>White</td>\n",
       "      <td>Female</td>\n",
       "      <td>0</td>\n",
       "      <td>1944</td>\n",
       "      <td>1</td>\n",
       "      <td>United-States</td>\n",
       "      <td>&lt;=50K</td>\n",
       "    </tr>\n",
       "    <tr>\n",
       "      <th>22960</th>\n",
       "      <td>21</td>\n",
       "      <td>Private</td>\n",
       "      <td>HS-grad</td>\n",
       "      <td>Never-married</td>\n",
       "      <td>Machine-op-inspct</td>\n",
       "      <td>Non-White</td>\n",
       "      <td>Male</td>\n",
       "      <td>0</td>\n",
       "      <td>0</td>\n",
       "      <td>1</td>\n",
       "      <td>United-States</td>\n",
       "      <td>&lt;=50K</td>\n",
       "    </tr>\n",
       "    <tr>\n",
       "      <th>24284</th>\n",
       "      <td>57</td>\n",
       "      <td>Self_employed</td>\n",
       "      <td>HS-grad</td>\n",
       "      <td>Married</td>\n",
       "      <td>Exec-managerial</td>\n",
       "      <td>White</td>\n",
       "      <td>Male</td>\n",
       "      <td>0</td>\n",
       "      <td>0</td>\n",
       "      <td>1</td>\n",
       "      <td>United-States</td>\n",
       "      <td>&lt;=50K</td>\n",
       "    </tr>\n",
       "    <tr>\n",
       "      <th>25078</th>\n",
       "      <td>74</td>\n",
       "      <td>Private</td>\n",
       "      <td>Dropout</td>\n",
       "      <td>No_longer_married</td>\n",
       "      <td>Other-service</td>\n",
       "      <td>White</td>\n",
       "      <td>Female</td>\n",
       "      <td>0</td>\n",
       "      <td>0</td>\n",
       "      <td>1</td>\n",
       "      <td>United-States</td>\n",
       "      <td>&lt;=50K</td>\n",
       "    </tr>\n",
       "  </tbody>\n",
       "</table>\n",
       "</div>"
      ],
      "text/plain": [
       "       age      workclass        education     marital_status  \\\n",
       "189     58     Government  Advanced-degree            Married   \n",
       "1036    66  Self_employed          Dropout            Married   \n",
       "11451   27        Private          HS-grad      Never-married   \n",
       "19750   23        Private          HS-grad      Never-married   \n",
       "20909   77  Self_employed     Some-college  No_longer_married   \n",
       "22960   21        Private          HS-grad      Never-married   \n",
       "24284   57  Self_employed          HS-grad            Married   \n",
       "25078   74        Private          Dropout  No_longer_married   \n",
       "\n",
       "              occupation       race     sex  capital_gain  capital_loss  \\\n",
       "189       Prof-specialty      White    Male             0             0   \n",
       "1036     Exec-managerial      White    Male          1409             0   \n",
       "11451  Machine-op-inspct      White    Male             0             0   \n",
       "19750       Craft-repair  Non-White    Male             0             0   \n",
       "20909       Adm-clerical      White  Female             0          1944   \n",
       "22960  Machine-op-inspct  Non-White    Male             0             0   \n",
       "24284    Exec-managerial      White    Male             0             0   \n",
       "25078      Other-service      White  Female             0             0   \n",
       "\n",
       "       hours_per_week native_country income  \n",
       "189                 1  United-States   >50K  \n",
       "1036                1              ?  <=50K  \n",
       "11451               1  United-States  <=50K  \n",
       "19750               1        Vietnam  <=50K  \n",
       "20909               1  United-States  <=50K  \n",
       "22960               1  United-States  <=50K  \n",
       "24284               1  United-States  <=50K  \n",
       "25078               1  United-States  <=50K  "
      ]
     },
     "execution_count": 23,
     "metadata": {},
     "output_type": "execute_result"
    }
   ],
   "source": [
    "inc[inc.hours_per_week == 1]"
   ]
  },
  {
   "cell_type": "code",
   "execution_count": 24,
   "metadata": {},
   "outputs": [
    {
     "name": "stdout",
     "output_type": "stream",
     "text": [
      "Number of people who work 99 hours per week: 80\n"
     ]
    },
    {
     "data": {
      "text/html": [
       "<div>\n",
       "<style scoped>\n",
       "    .dataframe tbody tr th:only-of-type {\n",
       "        vertical-align: middle;\n",
       "    }\n",
       "\n",
       "    .dataframe tbody tr th {\n",
       "        vertical-align: top;\n",
       "    }\n",
       "\n",
       "    .dataframe thead th {\n",
       "        text-align: right;\n",
       "    }\n",
       "</style>\n",
       "<table border=\"1\" class=\"dataframe\">\n",
       "  <thead>\n",
       "    <tr style=\"text-align: right;\">\n",
       "      <th></th>\n",
       "      <th>age</th>\n",
       "      <th>workclass</th>\n",
       "      <th>education</th>\n",
       "      <th>marital_status</th>\n",
       "      <th>occupation</th>\n",
       "      <th>race</th>\n",
       "      <th>sex</th>\n",
       "      <th>capital_gain</th>\n",
       "      <th>capital_loss</th>\n",
       "      <th>hours_per_week</th>\n",
       "      <th>native_country</th>\n",
       "      <th>income</th>\n",
       "    </tr>\n",
       "  </thead>\n",
       "  <tbody>\n",
       "    <tr>\n",
       "      <th>935</th>\n",
       "      <td>37</td>\n",
       "      <td>Private</td>\n",
       "      <td>HS-grad</td>\n",
       "      <td>Married</td>\n",
       "      <td>Craft-repair</td>\n",
       "      <td>White</td>\n",
       "      <td>Male</td>\n",
       "      <td>0</td>\n",
       "      <td>0</td>\n",
       "      <td>99</td>\n",
       "      <td>United-States</td>\n",
       "      <td>&gt;50K</td>\n",
       "    </tr>\n",
       "    <tr>\n",
       "      <th>1172</th>\n",
       "      <td>25</td>\n",
       "      <td>Private</td>\n",
       "      <td>Advanced-degree</td>\n",
       "      <td>Married</td>\n",
       "      <td>Farming-fishing</td>\n",
       "      <td>White</td>\n",
       "      <td>Male</td>\n",
       "      <td>0</td>\n",
       "      <td>0</td>\n",
       "      <td>99</td>\n",
       "      <td>United-States</td>\n",
       "      <td>&gt;50K</td>\n",
       "    </tr>\n",
       "    <tr>\n",
       "      <th>1887</th>\n",
       "      <td>55</td>\n",
       "      <td>Self_employed</td>\n",
       "      <td>Some-college</td>\n",
       "      <td>Married</td>\n",
       "      <td>Farming-fishing</td>\n",
       "      <td>White</td>\n",
       "      <td>Male</td>\n",
       "      <td>0</td>\n",
       "      <td>0</td>\n",
       "      <td>99</td>\n",
       "      <td>United-States</td>\n",
       "      <td>&gt;50K</td>\n",
       "    </tr>\n",
       "    <tr>\n",
       "      <th>3578</th>\n",
       "      <td>37</td>\n",
       "      <td>Self_employed</td>\n",
       "      <td>Advanced-degree</td>\n",
       "      <td>Married</td>\n",
       "      <td>Prof-specialty</td>\n",
       "      <td>Non-White</td>\n",
       "      <td>Male</td>\n",
       "      <td>0</td>\n",
       "      <td>0</td>\n",
       "      <td>99</td>\n",
       "      <td>United-States</td>\n",
       "      <td>&gt;50K</td>\n",
       "    </tr>\n",
       "    <tr>\n",
       "      <th>4308</th>\n",
       "      <td>35</td>\n",
       "      <td>Self_employed</td>\n",
       "      <td>HS-grad</td>\n",
       "      <td>Married</td>\n",
       "      <td>Farming-fishing</td>\n",
       "      <td>White</td>\n",
       "      <td>Male</td>\n",
       "      <td>0</td>\n",
       "      <td>0</td>\n",
       "      <td>99</td>\n",
       "      <td>United-States</td>\n",
       "      <td>&lt;=50K</td>\n",
       "    </tr>\n",
       "  </tbody>\n",
       "</table>\n",
       "</div>"
      ],
      "text/plain": [
       "      age      workclass        education marital_status       occupation  \\\n",
       "935    37        Private          HS-grad        Married     Craft-repair   \n",
       "1172   25        Private  Advanced-degree        Married  Farming-fishing   \n",
       "1887   55  Self_employed     Some-college        Married  Farming-fishing   \n",
       "3578   37  Self_employed  Advanced-degree        Married   Prof-specialty   \n",
       "4308   35  Self_employed          HS-grad        Married  Farming-fishing   \n",
       "\n",
       "           race   sex  capital_gain  capital_loss  hours_per_week  \\\n",
       "935       White  Male             0             0              99   \n",
       "1172      White  Male             0             0              99   \n",
       "1887      White  Male             0             0              99   \n",
       "3578  Non-White  Male             0             0              99   \n",
       "4308      White  Male             0             0              99   \n",
       "\n",
       "     native_country income  \n",
       "935   United-States   >50K  \n",
       "1172  United-States   >50K  \n",
       "1887  United-States   >50K  \n",
       "3578  United-States   >50K  \n",
       "4308  United-States  <=50K  "
      ]
     },
     "execution_count": 24,
     "metadata": {},
     "output_type": "execute_result"
    }
   ],
   "source": [
    "print('Number of people who work 99 hours per week:', len(inc[inc.hours_per_week ==99]))\n",
    "inc[inc.hours_per_week ==99].head()"
   ]
  },
  {
   "cell_type": "markdown",
   "metadata": {},
   "source": [
    "All of these seem like reasonable entries, for both the low and high values.  Again, I will consider binning this column if needed for modeling. \n",
    "\n",
    "Finally, let's inspect the native country of people."
   ]
  },
  {
   "cell_type": "code",
   "execution_count": 25,
   "metadata": {},
   "outputs": [
    {
     "data": {
      "text/plain": [
       "United-States                 27504\n",
       "Mexico                          610\n",
       "?                               556\n",
       "Philippines                     188\n",
       "Germany                         128\n",
       "Puerto-Rico                     109\n",
       "Canada                          107\n",
       "India                           100\n",
       "El-Salvador                     100\n",
       "Cuba                             92\n",
       "England                          86\n",
       "Jamaica                          80\n",
       "South                            71\n",
       "Italy                            68\n",
       "China                            68\n",
       "Dominican-Republic               67\n",
       "Vietnam                          64\n",
       "Guatemala                        63\n",
       "Japan                            59\n",
       "Columbia                         56\n",
       "Poland                           56\n",
       "Haiti                            42\n",
       "Iran                             42\n",
       "Taiwan                           42\n",
       "Portugal                         34\n",
       "Nicaragua                        33\n",
       "Peru                             30\n",
       "Greece                           29\n",
       "Ecuador                          27\n",
       "France                           27\n",
       "Ireland                          24\n",
       "Hong                             19\n",
       "Cambodia                         18\n",
       "Trinadad&Tobago                  18\n",
       "Laos                             17\n",
       "Thailand                         17\n",
       "Yugoslavia                       16\n",
       "Outlying-US(Guam-USVI-etc)       14\n",
       "Hungary                          13\n",
       "Honduras                         12\n",
       "Scotland                         11\n",
       "Holand-Netherlands                1\n",
       "Name: native_country, dtype: int64"
      ]
     },
     "execution_count": 25,
     "metadata": {},
     "output_type": "execute_result"
    }
   ],
   "source": [
    "inc.native_country.value_counts()"
   ]
  },
  {
   "cell_type": "markdown",
   "metadata": {},
   "source": [
    "Unsurprisingly, the majority of people in this census are native to the United States. The number and imbalance of this column could pose a problem.  I will categorize these into general geographic locations. Note, I placed Canada in the European category because of its French and English influences.   I will also remove the less than 600 entries that are missing this information."
   ]
  },
  {
   "cell_type": "code",
   "execution_count": 26,
   "metadata": {},
   "outputs": [
    {
     "data": {
      "text/plain": [
       "United_States    27518\n",
       "Latin_Am          1410\n",
       "Asia               634\n",
       "Europe             600\n",
       "Name: native_country, dtype: int64"
      ]
     },
     "execution_count": 26,
     "metadata": {},
     "output_type": "execute_result"
    }
   ],
   "source": [
    "inc = inc[inc.native_country != '?']\n",
    "inc.native_country = inc.native_country.map({'United-States':'United_States', \n",
    "                                             'Cuba':'Latin_Am', \n",
    "                                             'Jamaica':'Latin_Am',\n",
    "                                             'India':'Asia', \n",
    "                                             'Mexico':'Latin_Am',\n",
    "                                             'Puerto-Rico':'Latin_Am', \n",
    "                                             'Honduras':'Latin_Am', \n",
    "                                             'England':'Europe',\n",
    "                                             'Canada':'Europe', \n",
    "                                             'Germany':'Europe', \n",
    "                                             'Iran':'Asia',\n",
    "                                             'Philippines':'Asia', \n",
    "                                             'Poland':'Europe', \n",
    "                                             'Columbia':'Latin_Am', \n",
    "                                             'Cambodia':'Asia', \n",
    "                                             'Thailand':'Asia',\n",
    "                                             'Ecuador':'Latin_Am', \n",
    "                                             'Laos':'Asia',\n",
    "                                             'Taiwan':'Asia', \n",
    "                                             'Haiti':'Latin_Am', \n",
    "                                             'Portugal':'Europe',\n",
    "                                             'Dominican-Republic':'Latin_Am', \n",
    "                                             'El-Salvador':'Latin_Am', \n",
    "                                             'France':'Europe', \n",
    "                                             'Guatemala':'Latin_Am',\n",
    "                                             'Italy':'Europe', \n",
    "                                             'China':'Asia',\n",
    "                                             'South':'Latin_Am', \n",
    "                                             'Japan':'Asia', \n",
    "                                             'Yugoslavia':'Europe', \n",
    "                                             'Peru':'Latin_Am',\n",
    "                                             'Outlying-US(Guam-USVI-etc)':'United_States', \n",
    "                                             'Scotland':'Europe', \n",
    "                                             'Trinadad&Tobago':'Latin_Am',\n",
    "                                             'Greece':'Europe', \n",
    "                                             'Nicaragua':'Latin_Am', \n",
    "                                             'Vietnam':'Asia', \n",
    "                                             'Hong':'Asia', \n",
    "                                             'Ireland':'Europe', \n",
    "                                             'Hungary':'Europe',\n",
    "                                             'Holand-Netherlands':'Europe'})\n",
    "inc.native_country.value_counts()"
   ]
  },
  {
   "cell_type": "markdown",
   "metadata": {},
   "source": [
    "Finally, let's change our target varible, income greater or less than \\$50,000 to a binary variable where income less than \\$50,000 is 0, and income greater than $50,000 is 1."
   ]
  },
  {
   "cell_type": "code",
   "execution_count": 27,
   "metadata": {},
   "outputs": [
    {
     "data": {
      "text/html": [
       "<div>\n",
       "<style scoped>\n",
       "    .dataframe tbody tr th:only-of-type {\n",
       "        vertical-align: middle;\n",
       "    }\n",
       "\n",
       "    .dataframe tbody tr th {\n",
       "        vertical-align: top;\n",
       "    }\n",
       "\n",
       "    .dataframe thead th {\n",
       "        text-align: right;\n",
       "    }\n",
       "</style>\n",
       "<table border=\"1\" class=\"dataframe\">\n",
       "  <thead>\n",
       "    <tr style=\"text-align: right;\">\n",
       "      <th></th>\n",
       "      <th>age</th>\n",
       "      <th>workclass</th>\n",
       "      <th>education</th>\n",
       "      <th>marital_status</th>\n",
       "      <th>occupation</th>\n",
       "      <th>race</th>\n",
       "      <th>sex</th>\n",
       "      <th>capital_gain</th>\n",
       "      <th>capital_loss</th>\n",
       "      <th>hours_per_week</th>\n",
       "      <th>native_country</th>\n",
       "      <th>income</th>\n",
       "    </tr>\n",
       "  </thead>\n",
       "  <tbody>\n",
       "    <tr>\n",
       "      <th>0</th>\n",
       "      <td>39</td>\n",
       "      <td>Government</td>\n",
       "      <td>Bachelors</td>\n",
       "      <td>Never-married</td>\n",
       "      <td>Adm-clerical</td>\n",
       "      <td>White</td>\n",
       "      <td>Male</td>\n",
       "      <td>2174</td>\n",
       "      <td>0</td>\n",
       "      <td>40</td>\n",
       "      <td>United_States</td>\n",
       "      <td>0</td>\n",
       "    </tr>\n",
       "    <tr>\n",
       "      <th>1</th>\n",
       "      <td>50</td>\n",
       "      <td>Self_employed</td>\n",
       "      <td>Bachelors</td>\n",
       "      <td>Married</td>\n",
       "      <td>Exec-managerial</td>\n",
       "      <td>White</td>\n",
       "      <td>Male</td>\n",
       "      <td>0</td>\n",
       "      <td>0</td>\n",
       "      <td>13</td>\n",
       "      <td>United_States</td>\n",
       "      <td>0</td>\n",
       "    </tr>\n",
       "    <tr>\n",
       "      <th>2</th>\n",
       "      <td>38</td>\n",
       "      <td>Private</td>\n",
       "      <td>HS-grad</td>\n",
       "      <td>No_longer_married</td>\n",
       "      <td>Handlers-cleaners</td>\n",
       "      <td>White</td>\n",
       "      <td>Male</td>\n",
       "      <td>0</td>\n",
       "      <td>0</td>\n",
       "      <td>40</td>\n",
       "      <td>United_States</td>\n",
       "      <td>0</td>\n",
       "    </tr>\n",
       "    <tr>\n",
       "      <th>3</th>\n",
       "      <td>53</td>\n",
       "      <td>Private</td>\n",
       "      <td>Dropout</td>\n",
       "      <td>Married</td>\n",
       "      <td>Handlers-cleaners</td>\n",
       "      <td>Non-White</td>\n",
       "      <td>Male</td>\n",
       "      <td>0</td>\n",
       "      <td>0</td>\n",
       "      <td>40</td>\n",
       "      <td>United_States</td>\n",
       "      <td>0</td>\n",
       "    </tr>\n",
       "    <tr>\n",
       "      <th>4</th>\n",
       "      <td>28</td>\n",
       "      <td>Private</td>\n",
       "      <td>Bachelors</td>\n",
       "      <td>Married</td>\n",
       "      <td>Prof-specialty</td>\n",
       "      <td>Non-White</td>\n",
       "      <td>Female</td>\n",
       "      <td>0</td>\n",
       "      <td>0</td>\n",
       "      <td>40</td>\n",
       "      <td>Latin_Am</td>\n",
       "      <td>0</td>\n",
       "    </tr>\n",
       "  </tbody>\n",
       "</table>\n",
       "</div>"
      ],
      "text/plain": [
       "   age      workclass  education     marital_status         occupation  \\\n",
       "0   39     Government  Bachelors      Never-married       Adm-clerical   \n",
       "1   50  Self_employed  Bachelors            Married    Exec-managerial   \n",
       "2   38        Private    HS-grad  No_longer_married  Handlers-cleaners   \n",
       "3   53        Private    Dropout            Married  Handlers-cleaners   \n",
       "4   28        Private  Bachelors            Married     Prof-specialty   \n",
       "\n",
       "        race     sex  capital_gain  capital_loss  hours_per_week  \\\n",
       "0      White    Male          2174             0              40   \n",
       "1      White    Male             0             0              13   \n",
       "2      White    Male             0             0              40   \n",
       "3  Non-White    Male             0             0              40   \n",
       "4  Non-White  Female             0             0              40   \n",
       "\n",
       "  native_country  income  \n",
       "0  United_States       0  \n",
       "1  United_States       0  \n",
       "2  United_States       0  \n",
       "3  United_States       0  \n",
       "4       Latin_Am       0  "
      ]
     },
     "execution_count": 27,
     "metadata": {},
     "output_type": "execute_result"
    }
   ],
   "source": [
    "inc.income = inc.income.map({'>50K': 1, '<=50K': 0})\n",
    "inc.head()"
   ]
  },
  {
   "cell_type": "markdown",
   "metadata": {},
   "source": [
    "Now that our data has been cleaned and wrangled, I will perform Exploratory Data Analysis to identify patterns and trends in the data."
   ]
  },
  {
   "cell_type": "markdown",
   "metadata": {},
   "source": [
    "## Exploratory Data Analysis\n",
    "\n",
    "I will start by inspecting the distribution of income across the data set."
   ]
  },
  {
   "cell_type": "code",
   "execution_count": 28,
   "metadata": {},
   "outputs": [
    {
     "data": {
      "image/png": "[encoded data removed]",
      "text/plain": [
       "<matplotlib.figure.Figure at 0x114561cf8>"
      ]
     },
     "metadata": {},
     "output_type": "display_data"
    },
    {
     "name": "stdout",
     "output_type": "stream",
     "text": [
      "Percent of Low Income: 75.92%\n"
     ]
    }
   ],
   "source": [
    "plt.figure(figsize=(10,5))\n",
    "sns.countplot(x='income', data=inc, palette='Set2_r')\n",
    "plt.title('Distribution of Income Levels')\n",
    "plt.show()\n",
    "\n",
    "print('Percent of Low Income: {:.2f}%'.format(len(inc_raw[inc_raw.income == '<=50K'])/len(inc_raw)*100))"
   ]
  },
  {
   "cell_type": "markdown",
   "metadata": {},
   "source": [
    "76% of people have an income below \\$50,000. There are more people that earn under \\$50,000 per year, than people who don't. This means that I have a class imbalance and will need to consider under- or over-sampling in my modeling.\n",
    "\n",
    "Next I will visualize the distribution of each of these variables, along with the distribution of income levels for each variable. "
   ]
  },
  {
   "cell_type": "code",
   "execution_count": 29,
   "metadata": {
    "scrolled": false
   },
   "outputs": [
    {
     "name": "stdout",
     "output_type": "stream",
     "text": [
      "\t\t\t\t\t***** WORKCLASS *****\n"
     ]
    },
    {
     "data": {
      "image/png": "[encoded data removed]",
      "text/plain": [
       "<matplotlib.figure.Figure at 0x1145b0748>"
      ]
     },
     "metadata": {},
     "output_type": "display_data"
    },
    {
     "name": "stdout",
     "output_type": "stream",
     "text": [
      "income             0     1\n",
      "workclass                 \n",
      "Government      2971  1318\n",
      "Not_working       14     0\n",
      "Private        17410  4876\n",
      "Self_employed   2259  1314\n",
      "\t\t\t\t\t***** EDUCATION *****\n"
     ]
    },
    {
     "data": {
      "image/png": "[encoded data removed]",
      "text/plain": [
       "<matplotlib.figure.Figure at 0x1145cec50>"
      ]
     },
     "metadata": {},
     "output_type": "display_data"
    },
    {
     "name": "stdout",
     "output_type": "stream",
     "text": [
      "income              0     1\n",
      "education                  \n",
      "Advanced-degree   940  1604\n",
      "Bachelors        2918  2126\n",
      "Dropout          3168   196\n",
      "HS-grad          8223  1617\n",
      "Some-college     7057  1936\n",
      "\t\t\t\t\t***** MARITAL_STATUS *****\n"
     ]
    },
    {
     "data": {
      "image/png": "[encoded data removed]",
      "text/plain": [
       "<matplotlib.figure.Figure at 0x114574898>"
      ]
     },
     "metadata": {},
     "output_type": "display_data"
    },
    {
     "name": "stdout",
     "output_type": "stream",
     "text": [
      "income                0     1\n",
      "marital_status               \n",
      "Married            7677  6409\n",
      "Never-married      9256   470\n",
      "No_longer_married  5721   629\n",
      "\t\t\t\t\t***** OCCUPATION *****\n"
     ]
    },
    {
     "data": {
      "image/png": "[encoded data removed]",
      "text/plain": [
       "<matplotlib.figure.Figure at 0x114d55080>"
      ]
     },
     "metadata": {},
     "output_type": "display_data"
    },
    {
     "name": "stdout",
     "output_type": "stream",
     "text": [
      "income                0     1\n",
      "occupation                   \n",
      "Adm-clerical       3223   498\n",
      "Armed-Forces          8     1\n",
      "Craft-repair       3122   908\n",
      "Exec-managerial    2055  1937\n",
      "Farming-fishing     874   115\n",
      "Handlers-cleaners  1267    83\n",
      "Machine-op-inspct  1721   245\n",
      "Other-service      3080   132\n",
      "Priv-house-serv     142     1\n",
      "Prof-specialty     2227  1811\n",
      "Protective-serv     434   210\n",
      "Sales              2614   970\n",
      "Tech-support        634   278\n",
      "Transport-moving   1253   319\n",
      "\t\t\t\t\t***** RACE *****\n"
     ]
    },
    {
     "data": {
      "image/png": "[encoded data removed]",
      "text/plain": [
       "<matplotlib.figure.Figure at 0x114d1c3c8>"
      ]
     },
     "metadata": {},
     "output_type": "display_data"
    },
    {
     "name": "stdout",
     "output_type": "stream",
     "text": [
      "income         0     1\n",
      "race                  \n",
      "Non-White   3560   669\n",
      "White      19094  6839\n",
      "\t\t\t\t\t***** SEX *****\n"
     ]
    },
    {
     "data": {
      "image/png": "[encoded data removed]",
      "text/plain": [
       "<matplotlib.figure.Figure at 0x116220ef0>"
      ]
     },
     "metadata": {},
     "output_type": "display_data"
    },
    {
     "name": "stdout",
     "output_type": "stream",
     "text": [
      "income      0     1\n",
      "sex                \n",
      "Female   8670  1112\n",
      "Male    13984  6396\n",
      "\t\t\t\t\t***** NATIVE_COUNTRY *****\n"
     ]
    },
    {
     "data": {
      "image/png": "[encoded data removed]",
      "text/plain": [
       "<matplotlib.figure.Figure at 0x105b77b00>"
      ]
     },
     "metadata": {},
     "output_type": "display_data"
    },
    {
     "name": "stdout",
     "output_type": "stream",
     "text": [
      "income              0     1\n",
      "native_country             \n",
      "Asia              431   203\n",
      "Europe            415   185\n",
      "Latin_Am         1285   125\n",
      "United_States   20523  6995\n"
     ]
    },
    {
     "data": {
      "text/html": [
       "<div>\n",
       "<style scoped>\n",
       "    .dataframe tbody tr th:only-of-type {\n",
       "        vertical-align: middle;\n",
       "    }\n",
       "\n",
       "    .dataframe tbody tr th {\n",
       "        vertical-align: top;\n",
       "    }\n",
       "\n",
       "    .dataframe thead th {\n",
       "        text-align: right;\n",
       "    }\n",
       "</style>\n",
       "<table border=\"1\" class=\"dataframe\">\n",
       "  <thead>\n",
       "    <tr style=\"text-align: right;\">\n",
       "      <th></th>\n",
       "      <th>Attribute</th>\n",
       "      <th>P_value</th>\n",
       "    </tr>\n",
       "  </thead>\n",
       "  <tbody>\n",
       "    <tr>\n",
       "      <th>1</th>\n",
       "      <td>education</td>\n",
       "      <td>0.000000e+00</td>\n",
       "    </tr>\n",
       "    <tr>\n",
       "      <th>2</th>\n",
       "      <td>marital_status</td>\n",
       "      <td>0.000000e+00</td>\n",
       "    </tr>\n",
       "    <tr>\n",
       "      <th>3</th>\n",
       "      <td>occupation</td>\n",
       "      <td>0.000000e+00</td>\n",
       "    </tr>\n",
       "    <tr>\n",
       "      <th>5</th>\n",
       "      <td>sex</td>\n",
       "      <td>5.862415e-310</td>\n",
       "    </tr>\n",
       "    <tr>\n",
       "      <th>0</th>\n",
       "      <td>workclass</td>\n",
       "      <td>1.406662e-99</td>\n",
       "    </tr>\n",
       "    <tr>\n",
       "      <th>4</th>\n",
       "      <td>race</td>\n",
       "      <td>5.076837e-49</td>\n",
       "    </tr>\n",
       "    <tr>\n",
       "      <th>6</th>\n",
       "      <td>native_country</td>\n",
       "      <td>8.442885e-49</td>\n",
       "    </tr>\n",
       "  </tbody>\n",
       "</table>\n",
       "</div>"
      ],
      "text/plain": [
       "        Attribute        P_value\n",
       "1       education   0.000000e+00\n",
       "2  marital_status   0.000000e+00\n",
       "3      occupation   0.000000e+00\n",
       "5             sex  5.862415e-310\n",
       "0       workclass   1.406662e-99\n",
       "4            race   5.076837e-49\n",
       "6  native_country   8.442885e-49"
      ]
     },
     "execution_count": 29,
     "metadata": {},
     "output_type": "execute_result"
    }
   ],
   "source": [
    "# Initializing data frame for p-values from Chi-Square test\n",
    "p_vals = pd.DataFrame(columns=['Attribute', 'P_value'])\n",
    "\n",
    "for col in inc.select_dtypes(include='object').columns:\n",
    "    print('\\t\\t\\t\\t\\t***** {} *****'.format(col.upper()))\n",
    "    # Plotting counts of each column\n",
    "    plt.figure(figsize=(15,5))\n",
    "    plt.subplot(121)\n",
    "    sns.countplot(x=col, data=inc, palette='Set2')\n",
    "    plt.title('Distribution of {}'.format(col))\n",
    "    plt.xticks(rotation=40)\n",
    "\n",
    "    # Plotting counts of each column by income level\n",
    "    plt.subplot(122)\n",
    "    sns.countplot(x=col, data=inc, hue='income', palette='RdYlGn')\n",
    "    plt.title('Distribution of income by {}'.format(col))\n",
    "    plt.xticks(rotation=40)\n",
    "    \n",
    "    plt.tight_layout()\n",
    "    plt.show()\n",
    "\n",
    "    # Creating cross tabulated data for Chi-square test\n",
    "    counttable = pd.crosstab(inc[col], inc['income'])\n",
    "    print(counttable)\n",
    "    chi2, p, dof, ex = chi2_contingency(counttable, correction=False)\n",
    "    p_vals = p_vals.append({'Attribute':col, 'P_value':float(p)}, ignore_index=True)\n",
    "    \n",
    "\n",
    "# Printing p-values of Chi-squared tests, sorted by p-values\n",
    "p_vals.sort_values('P_value')"
   ]
  },
  {
   "cell_type": "markdown",
   "metadata": {},
   "source": [
    "Here, we visualize the similar class imbalances we observed in cleaning the data, especially in working class, education, race, and native country.  We also visualize that there are more people who earn less than \\$50,000 in the majority of categories, regardless of their demographics.  Despite this, there are a number of demographic attributes that result in a higher proportion of individuals earning over \\$50,000.  Those attributes are as follows:\n",
    "\n",
    "- Having a Bachelor's degree, or other advanced degree\n",
    "- Being married\n",
    "- Working as an executive manager or in a professional specialty\n",
    "\n",
    "According to the p-values from the chi-squared tests, all categorical values have significant differences (p-value < 0.05) between populations earning high and low incomes.  This means that all of these demographic attributes have some relationship with income level, and will therefore be included as potential features in our modeling. \n",
    "\n",
    "Next, let's take a look at distributions of continuous data for income levels."
   ]
  },
  {
   "cell_type": "code",
   "execution_count": 30,
   "metadata": {
    "scrolled": false
   },
   "outputs": [
    {
     "name": "stdout",
     "output_type": "stream",
     "text": [
      "\t\t\t\t\t***** AGE *****\n"
     ]
    },
    {
     "data": {
      "image/png": "[encoded data removed]",
      "text/plain": [
       "<matplotlib.figure.Figure at 0x1145b05f8>"
      ]
     },
     "metadata": {},
     "output_type": "display_data"
    },
    {
     "name": "stdout",
     "output_type": "stream",
     "text": [
      "\t\t\t\t\t***** CAPITAL_GAIN *****\n"
     ]
    },
    {
     "data": {
      "image/png": "[encoded data removed]",
      "text/plain": [
       "<matplotlib.figure.Figure at 0x105c255c0>"
      ]
     },
     "metadata": {},
     "output_type": "display_data"
    },
    {
     "name": "stdout",
     "output_type": "stream",
     "text": [
      "\t\t\t\t\t***** CAPITAL_LOSS *****\n"
     ]
    },
    {
     "data": {
      "image/png": "[encoded data removed]",
      "text/plain": [
       "<matplotlib.figure.Figure at 0x116a05ac8>"
      ]
     },
     "metadata": {},
     "output_type": "display_data"
    },
    {
     "name": "stdout",
     "output_type": "stream",
     "text": [
      "\t\t\t\t\t***** HOURS_PER_WEEK *****\n"
     ]
    },
    {
     "data": {
      "image/png": "[encoded data removed]",
      "text/plain": [
       "<matplotlib.figure.Figure at 0x116226c18>"
      ]
     },
     "metadata": {},
     "output_type": "display_data"
    },
    {
     "data": {
      "text/html": [
       "<div>\n",
       "<style scoped>\n",
       "    .dataframe tbody tr th:only-of-type {\n",
       "        vertical-align: middle;\n",
       "    }\n",
       "\n",
       "    .dataframe tbody tr th {\n",
       "        vertical-align: top;\n",
       "    }\n",
       "\n",
       "    .dataframe thead th {\n",
       "        text-align: right;\n",
       "    }\n",
       "</style>\n",
       "<table border=\"1\" class=\"dataframe\">\n",
       "  <thead>\n",
       "    <tr style=\"text-align: right;\">\n",
       "      <th></th>\n",
       "      <th>Attribute</th>\n",
       "      <th>P_value</th>\n",
       "    </tr>\n",
       "  </thead>\n",
       "  <tbody>\n",
       "    <tr>\n",
       "      <th>0</th>\n",
       "      <td>age</td>\n",
       "      <td>0.000000e+00</td>\n",
       "    </tr>\n",
       "    <tr>\n",
       "      <th>1</th>\n",
       "      <td>capital_gain</td>\n",
       "      <td>0.000000e+00</td>\n",
       "    </tr>\n",
       "    <tr>\n",
       "      <th>3</th>\n",
       "      <td>hours_per_week</td>\n",
       "      <td>0.000000e+00</td>\n",
       "    </tr>\n",
       "    <tr>\n",
       "      <th>2</th>\n",
       "      <td>capital_loss</td>\n",
       "      <td>2.182812e-151</td>\n",
       "    </tr>\n",
       "  </tbody>\n",
       "</table>\n",
       "</div>"
      ],
      "text/plain": [
       "        Attribute        P_value\n",
       "0             age   0.000000e+00\n",
       "1    capital_gain   0.000000e+00\n",
       "3  hours_per_week   0.000000e+00\n",
       "2    capital_loss  2.182812e-151"
      ]
     },
     "execution_count": 30,
     "metadata": {},
     "output_type": "execute_result"
    }
   ],
   "source": [
    "# Initializing data frame for p-values from Chi-Square test\n",
    "p_vals = pd.DataFrame(columns=['Attribute', 'P_value'])\n",
    "\n",
    "for col in inc.select_dtypes(include='int64').columns.drop('income'):\n",
    "    print('\\t\\t\\t\\t\\t***** {} *****'.format(col.upper()))\n",
    "    # Plotting distributions of each column\n",
    "    plt.figure(figsize=(15,5))\n",
    "    plt.subplot(121)\n",
    "    sns.distplot(inc[col], color='Purple')\n",
    "    plt.title('Distribution of {}'.format(col))\n",
    "\n",
    "    # Plotting distributions of each column by income level\n",
    "    plt.subplot(122)\n",
    "    sns.boxplot(x='income', y=col, data=inc, palette='RdYlGn')\n",
    "    plt.title('Distribution of income by {}'.format(col))\n",
    "    #changing y-axis scale to log for capital gain and capital loss to better visualize distribution\n",
    "    if col in ['capital_gain','capital_loss']:\n",
    "        plt.yscale('log')\n",
    "    \n",
    "    plt.tight_layout()\n",
    "    plt.show()\n",
    "\n",
    "    # Calculating pvalues from t-test\n",
    "    t_val, p_val = ttest_ind(inc[inc['income']==0][col],\n",
    "                                inc[inc['income']==1][col])\n",
    "    p_vals = p_vals.append({'Attribute':col, 'P_value':float(p_val)}, ignore_index=True)\n",
    "    \n",
    "\n",
    "# Printing p-values of t-tests, sorted by p-values\n",
    "p_vals.sort_values('P_value')"
   ]
  },
  {
   "cell_type": "markdown",
   "metadata": {},
   "source": [
    "According to the data, all of the continuous variables have significant differences (p-value <0.05) between the distributions of high and low incomes.  Additionally, there are a number of observations we can make from these boxplots:\n",
    "- Older people are more likely to earn more than \\$50,000\n",
    "- Most people had zero capital gains and capital losses\n",
    "- The majority of people worked just over 40 hours per week\n",
    "- People who earned more than \\$50,000 worked, on average, longer than 40 hours per week\n",
    "\n",
    "One assumption of the models I am going to develop is that continuous features are normally distributed.  Based on the plots above:\n",
    "- Age is slightly skewed right with a tail contining older people in the population.  This is also likely because all people younger than 16 were not included in the data set in the first place.  \n",
    "- Capital gains and capital losses are both strongly skewed right.  Because of this skew, I will use the values as is and also bin the values into categories and determine how this impacts model accuracy.\n",
    "- Hours per week is centered around 40, a left skew of spikes on either side of the center.\n",
    "\n",
    "Based on these observations, I will need to engineer age, capital gains, and hours per week to be normally distributed.\n",
    "\n",
    "## Feature Selection and Engineering\n",
    "Next, I will use all potential features from this data set to select features to include in our modeling.  "
   ]
  },
  {
   "cell_type": "code",
   "execution_count": 31,
   "metadata": {},
   "outputs": [
    {
     "data": {
      "text/html": [
       "<div>\n",
       "<style scoped>\n",
       "    .dataframe tbody tr th:only-of-type {\n",
       "        vertical-align: middle;\n",
       "    }\n",
       "\n",
       "    .dataframe tbody tr th {\n",
       "        vertical-align: top;\n",
       "    }\n",
       "\n",
       "    .dataframe thead th {\n",
       "        text-align: right;\n",
       "    }\n",
       "</style>\n",
       "<table border=\"1\" class=\"dataframe\">\n",
       "  <thead>\n",
       "    <tr style=\"text-align: right;\">\n",
       "      <th></th>\n",
       "      <th>workclass_Government</th>\n",
       "      <th>workclass_Not_working</th>\n",
       "      <th>workclass_Private</th>\n",
       "      <th>workclass_Self_employed</th>\n",
       "      <th>education_Advanced-degree</th>\n",
       "      <th>education_Bachelors</th>\n",
       "      <th>education_Dropout</th>\n",
       "      <th>education_HS-grad</th>\n",
       "      <th>education_Some-college</th>\n",
       "      <th>marital_status_Married</th>\n",
       "      <th>...</th>\n",
       "      <th>occupation_Tech-support</th>\n",
       "      <th>occupation_Transport-moving</th>\n",
       "      <th>race_Non-White</th>\n",
       "      <th>race_White</th>\n",
       "      <th>sex_Female</th>\n",
       "      <th>sex_Male</th>\n",
       "      <th>native_country_Asia</th>\n",
       "      <th>native_country_Europe</th>\n",
       "      <th>native_country_Latin_Am</th>\n",
       "      <th>native_country_United_States</th>\n",
       "    </tr>\n",
       "  </thead>\n",
       "  <tbody>\n",
       "    <tr>\n",
       "      <th>0</th>\n",
       "      <td>1</td>\n",
       "      <td>0</td>\n",
       "      <td>0</td>\n",
       "      <td>0</td>\n",
       "      <td>0</td>\n",
       "      <td>1</td>\n",
       "      <td>0</td>\n",
       "      <td>0</td>\n",
       "      <td>0</td>\n",
       "      <td>0</td>\n",
       "      <td>...</td>\n",
       "      <td>0</td>\n",
       "      <td>0</td>\n",
       "      <td>0</td>\n",
       "      <td>1</td>\n",
       "      <td>0</td>\n",
       "      <td>1</td>\n",
       "      <td>0</td>\n",
       "      <td>0</td>\n",
       "      <td>0</td>\n",
       "      <td>1</td>\n",
       "    </tr>\n",
       "    <tr>\n",
       "      <th>1</th>\n",
       "      <td>0</td>\n",
       "      <td>0</td>\n",
       "      <td>0</td>\n",
       "      <td>1</td>\n",
       "      <td>0</td>\n",
       "      <td>1</td>\n",
       "      <td>0</td>\n",
       "      <td>0</td>\n",
       "      <td>0</td>\n",
       "      <td>1</td>\n",
       "      <td>...</td>\n",
       "      <td>0</td>\n",
       "      <td>0</td>\n",
       "      <td>0</td>\n",
       "      <td>1</td>\n",
       "      <td>0</td>\n",
       "      <td>1</td>\n",
       "      <td>0</td>\n",
       "      <td>0</td>\n",
       "      <td>0</td>\n",
       "      <td>1</td>\n",
       "    </tr>\n",
       "    <tr>\n",
       "      <th>2</th>\n",
       "      <td>0</td>\n",
       "      <td>0</td>\n",
       "      <td>1</td>\n",
       "      <td>0</td>\n",
       "      <td>0</td>\n",
       "      <td>0</td>\n",
       "      <td>0</td>\n",
       "      <td>1</td>\n",
       "      <td>0</td>\n",
       "      <td>0</td>\n",
       "      <td>...</td>\n",
       "      <td>0</td>\n",
       "      <td>0</td>\n",
       "      <td>0</td>\n",
       "      <td>1</td>\n",
       "      <td>0</td>\n",
       "      <td>1</td>\n",
       "      <td>0</td>\n",
       "      <td>0</td>\n",
       "      <td>0</td>\n",
       "      <td>1</td>\n",
       "    </tr>\n",
       "    <tr>\n",
       "      <th>3</th>\n",
       "      <td>0</td>\n",
       "      <td>0</td>\n",
       "      <td>1</td>\n",
       "      <td>0</td>\n",
       "      <td>0</td>\n",
       "      <td>0</td>\n",
       "      <td>1</td>\n",
       "      <td>0</td>\n",
       "      <td>0</td>\n",
       "      <td>1</td>\n",
       "      <td>...</td>\n",
       "      <td>0</td>\n",
       "      <td>0</td>\n",
       "      <td>1</td>\n",
       "      <td>0</td>\n",
       "      <td>0</td>\n",
       "      <td>1</td>\n",
       "      <td>0</td>\n",
       "      <td>0</td>\n",
       "      <td>0</td>\n",
       "      <td>1</td>\n",
       "    </tr>\n",
       "    <tr>\n",
       "      <th>4</th>\n",
       "      <td>0</td>\n",
       "      <td>0</td>\n",
       "      <td>1</td>\n",
       "      <td>0</td>\n",
       "      <td>0</td>\n",
       "      <td>1</td>\n",
       "      <td>0</td>\n",
       "      <td>0</td>\n",
       "      <td>0</td>\n",
       "      <td>1</td>\n",
       "      <td>...</td>\n",
       "      <td>0</td>\n",
       "      <td>0</td>\n",
       "      <td>1</td>\n",
       "      <td>0</td>\n",
       "      <td>1</td>\n",
       "      <td>0</td>\n",
       "      <td>0</td>\n",
       "      <td>0</td>\n",
       "      <td>1</td>\n",
       "      <td>0</td>\n",
       "    </tr>\n",
       "  </tbody>\n",
       "</table>\n",
       "<p>5 rows × 34 columns</p>\n",
       "</div>"
      ],
      "text/plain": [
       "   workclass_Government  workclass_Not_working  workclass_Private  \\\n",
       "0                     1                      0                  0   \n",
       "1                     0                      0                  0   \n",
       "2                     0                      0                  1   \n",
       "3                     0                      0                  1   \n",
       "4                     0                      0                  1   \n",
       "\n",
       "   workclass_Self_employed  education_Advanced-degree  education_Bachelors  \\\n",
       "0                        0                          0                    1   \n",
       "1                        1                          0                    1   \n",
       "2                        0                          0                    0   \n",
       "3                        0                          0                    0   \n",
       "4                        0                          0                    1   \n",
       "\n",
       "   education_Dropout  education_HS-grad  education_Some-college  \\\n",
       "0                  0                  0                       0   \n",
       "1                  0                  0                       0   \n",
       "2                  0                  1                       0   \n",
       "3                  1                  0                       0   \n",
       "4                  0                  0                       0   \n",
       "\n",
       "   marital_status_Married              ...               \\\n",
       "0                       0              ...                \n",
       "1                       1              ...                \n",
       "2                       0              ...                \n",
       "3                       1              ...                \n",
       "4                       1              ...                \n",
       "\n",
       "   occupation_Tech-support  occupation_Transport-moving  race_Non-White  \\\n",
       "0                        0                            0               0   \n",
       "1                        0                            0               0   \n",
       "2                        0                            0               0   \n",
       "3                        0                            0               1   \n",
       "4                        0                            0               1   \n",
       "\n",
       "   race_White  sex_Female  sex_Male  native_country_Asia  \\\n",
       "0           1           0         1                    0   \n",
       "1           1           0         1                    0   \n",
       "2           1           0         1                    0   \n",
       "3           0           0         1                    0   \n",
       "4           0           1         0                    0   \n",
       "\n",
       "   native_country_Europe  native_country_Latin_Am  \\\n",
       "0                      0                        0   \n",
       "1                      0                        0   \n",
       "2                      0                        0   \n",
       "3                      0                        0   \n",
       "4                      0                        1   \n",
       "\n",
       "   native_country_United_States  \n",
       "0                             1  \n",
       "1                             1  \n",
       "2                             1  \n",
       "3                             1  \n",
       "4                             0  \n",
       "\n",
       "[5 rows x 34 columns]"
      ]
     },
     "execution_count": 31,
     "metadata": {},
     "output_type": "execute_result"
    }
   ],
   "source": [
    "# Creating dummy variables for categorical features\n",
    "dummies = pd.get_dummies(inc.select_dtypes(include='object'))\n",
    "dummies.head()"
   ]
  },
  {
   "cell_type": "markdown",
   "metadata": {},
   "source": [
    "Now that I have a basic set of dummy features for categorical variables, I need to ensure that the age and hours per week variables are normally distributed.  To do this, I will create a four-panel plot for each to transform each variable through log, square root, and cube root, and plotting the histograms of these values to determine which transformation is most normally distributed. "
   ]
  },
  {
   "cell_type": "code",
   "execution_count": 32,
   "metadata": {},
   "outputs": [
    {
     "name": "stdout",
     "output_type": "stream",
     "text": [
      "\t\t*****Four-panel Plot for age*****\n"
     ]
    },
    {
     "data": {
      "image/png": "[encoded data removed]",
      "text/plain": [
       "<matplotlib.figure.Figure at 0x105ac2be0>"
      ]
     },
     "metadata": {},
     "output_type": "display_data"
    },
    {
     "name": "stdout",
     "output_type": "stream",
     "text": [
      "\t\t*****Four-panel Plot for hours_per_week*****\n"
     ]
    },
    {
     "data": {
      "image/png": "[encoded data removed]",
      "text/plain": [
       "<matplotlib.figure.Figure at 0x1145b0588>"
      ]
     },
     "metadata": {},
     "output_type": "display_data"
    }
   ],
   "source": [
    "# Making a four-panel plot for each continuous variable\n",
    "for col in ['age', 'hours_per_week']:\n",
    "    print('\\t\\t*****Four-panel Plot for {}*****'.format(col))\n",
    "    plt.figure(figsize=(7,7))\n",
    "    \n",
    "    plt.subplot(221)\n",
    "    plt.hist(inc[col])\n",
    "    plt.title('Raw')\n",
    "    \n",
    "    plt.subplot(222)\n",
    "    plt.hist(np.log(inc[col]))\n",
    "    plt.title('Log')\n",
    "    \n",
    "    plt.subplot(223)\n",
    "    plt.hist(np.sqrt(inc[col]))\n",
    "    plt.title('Square root')\n",
    "    \n",
    "    plt.subplot(224)\n",
    "    plt.hist(inc[col]**(1/3))\n",
    "    plt.title('Cube root')\n",
    "    plt.tight_layout()\n",
    "    plt.show()"
   ]
  },
  {
   "cell_type": "markdown",
   "metadata": {},
   "source": [
    "According to the data, the log of age and the raw data for hours per week appear most normally distributed.  I will construct a new feature that is the log of the age of the person, and include the raw hours per week as a feature as well. "
   ]
  },
  {
   "cell_type": "code",
   "execution_count": 33,
   "metadata": {},
   "outputs": [],
   "source": [
    "# Constructing new features data frame\n",
    "features = pd.DataFrame()\n",
    "# Starting with target column\n",
    "features['income'] = inc['income']\n",
    "# Adding in new features \n",
    "features['log_age'] = np.log(inc['age'])\n",
    "features['hours_per_week'] = inc['hours_per_week']"
   ]
  },
  {
   "cell_type": "markdown",
   "metadata": {},
   "source": [
    "Now I need to address capital gains and capital losses.  I will engineer two features for these and then check to see which has more significant differences between higher or lower income values.  The two features will be net capital gains, where I will subtract capital losses from capital gains, and the I will turn this new feature into categories, including negative (capital losses), net neutral capital gains, positive capital gains, and highly positive capital gains. "
   ]
  },
  {
   "cell_type": "code",
   "execution_count": 34,
   "metadata": {},
   "outputs": [
    {
     "data": {
      "text/plain": [
       "Neut            26197\n",
       "HighPositive     1566\n",
       "Neg              1427\n",
       "Postive           972\n",
       "Name: net_cap_gains_cat, dtype: int64"
      ]
     },
     "execution_count": 34,
     "metadata": {},
     "output_type": "execute_result"
    }
   ],
   "source": [
    "# Constructing Net Capital Gains feature\n",
    "features['net_cap_gains'] = inc.capital_gain - inc.capital_loss\n",
    "\n",
    "# Turning capital gains feature into categorical with negative, neutral, positive, and highly positive buckets\n",
    "custom_buckets = [-5000, -1, 0, 5000, 100000]\n",
    "features['net_cap_gains_cat'] = pd.cut(features.net_cap_gains, custom_buckets, \n",
    "                                       labels=['Neg','Neut','Postive', 'HighPositive'])\n",
    "features.net_cap_gains_cat.value_counts()"
   ]
  },
  {
   "cell_type": "markdown",
   "metadata": {},
   "source": [
    "Now that I've engineered new features for this data, I will return to exploring the data to ensure that there are significant differences in each feature  between the high and low income groups. "
   ]
  },
  {
   "cell_type": "code",
   "execution_count": 35,
   "metadata": {
    "scrolled": false
   },
   "outputs": [
    {
     "name": "stdout",
     "output_type": "stream",
     "text": [
      "\t\t\t\t\t***** LOG_AGE *****\n"
     ]
    },
    {
     "data": {
      "image/png": "[encoded data removed]",
      "text/plain": [
       "<matplotlib.figure.Figure at 0x1145e2c50>"
      ]
     },
     "metadata": {},
     "output_type": "display_data"
    },
    {
     "name": "stdout",
     "output_type": "stream",
     "text": [
      "\t\t\t\t\t***** HOURS_PER_WEEK *****\n"
     ]
    },
    {
     "data": {
      "image/png": "[encoded data removed]",
      "text/plain": [
       "<matplotlib.figure.Figure at 0x114605908>"
      ]
     },
     "metadata": {},
     "output_type": "display_data"
    },
    {
     "name": "stdout",
     "output_type": "stream",
     "text": [
      "\t\t\t\t\t***** NET_CAP_GAINS *****\n"
     ]
    },
    {
     "data": {
      "image/png": "[encoded data removed]",
      "text/plain": [
       "<matplotlib.figure.Figure at 0x105b5cd68>"
      ]
     },
     "metadata": {},
     "output_type": "display_data"
    },
    {
     "name": "stdout",
     "output_type": "stream",
     "text": [
      "\t\t\t\t\t***** NET_CAP_GAINS_CAT *****\n"
     ]
    },
    {
     "data": {
      "image/png": "[encoded data removed]",
      "text/plain": [
       "<matplotlib.figure.Figure at 0x115bd1e10>"
      ]
     },
     "metadata": {},
     "output_type": "display_data"
    },
    {
     "name": "stdout",
     "output_type": "stream",
     "text": [
      "income                 0     1\n",
      "net_cap_gains_cat             \n",
      "Neg                  690   737\n",
      "Neut               21021  5176\n",
      "Postive              796   176\n",
      "HighPositive         147  1419\n"
     ]
    },
    {
     "data": {
      "text/html": [
       "<div>\n",
       "<style scoped>\n",
       "    .dataframe tbody tr th:only-of-type {\n",
       "        vertical-align: middle;\n",
       "    }\n",
       "\n",
       "    .dataframe tbody tr th {\n",
       "        vertical-align: top;\n",
       "    }\n",
       "\n",
       "    .dataframe thead th {\n",
       "        text-align: right;\n",
       "    }\n",
       "</style>\n",
       "<table border=\"1\" class=\"dataframe\">\n",
       "  <thead>\n",
       "    <tr style=\"text-align: right;\">\n",
       "      <th></th>\n",
       "      <th>Attribute</th>\n",
       "      <th>P_value</th>\n",
       "    </tr>\n",
       "  </thead>\n",
       "  <tbody>\n",
       "    <tr>\n",
       "      <th>0</th>\n",
       "      <td>log_age</td>\n",
       "      <td>0.000000e+00</td>\n",
       "    </tr>\n",
       "    <tr>\n",
       "      <th>1</th>\n",
       "      <td>hours_per_week</td>\n",
       "      <td>0.000000e+00</td>\n",
       "    </tr>\n",
       "    <tr>\n",
       "      <th>3</th>\n",
       "      <td>net_cap_gains_cat</td>\n",
       "      <td>0.000000e+00</td>\n",
       "    </tr>\n",
       "    <tr>\n",
       "      <th>2</th>\n",
       "      <td>net_cap_gains</td>\n",
       "      <td>1.775418e-304</td>\n",
       "    </tr>\n",
       "  </tbody>\n",
       "</table>\n",
       "</div>"
      ],
      "text/plain": [
       "           Attribute        P_value\n",
       "0            log_age   0.000000e+00\n",
       "1     hours_per_week   0.000000e+00\n",
       "3  net_cap_gains_cat   0.000000e+00\n",
       "2      net_cap_gains  1.775418e-304"
      ]
     },
     "execution_count": 35,
     "metadata": {},
     "output_type": "execute_result"
    }
   ],
   "source": [
    "# Initializing data frame for p-values from Chi-Square and t-tests\n",
    "p_vals = pd.DataFrame(columns=['Attribute', 'P_value'])\n",
    "\n",
    "for col in features.columns:\n",
    "    # Constructing count plots for categorical data\n",
    "    if col in features.select_dtypes(include='category').columns:\n",
    "        print('\\t\\t\\t\\t\\t***** {} *****'.format(col.upper()))\n",
    "        # Plotting counts of each column\n",
    "        plt.figure(figsize=(15,5))\n",
    "        plt.subplot(121)\n",
    "        sns.countplot(x=col, data=features, palette='Set2')\n",
    "        plt.title('Distribution of {}'.format(col))\n",
    "        plt.xticks(rotation=40)\n",
    "\n",
    "        # Plotting counts of each column by income level\n",
    "        plt.subplot(122)\n",
    "        sns.countplot(x=col, data=features, hue='income', palette='RdYlGn')\n",
    "        plt.title('Distribution of income by {}'.format(col))\n",
    "        plt.xticks(rotation=40)\n",
    "    \n",
    "        plt.tight_layout()\n",
    "        plt.show()\n",
    "\n",
    "        # Creating cross tabulated data for Chi-square test\n",
    "        counttable = pd.crosstab(features[col], features['income'])\n",
    "        print(counttable)\n",
    "        chi2, p, dof, ex = chi2_contingency(counttable, correction=False)\n",
    "        p_vals = p_vals.append({'Attribute':col, 'P_value':float(p)}, ignore_index=True)\n",
    "    \n",
    "    # Constructing histograms and boxplots for continuous data\n",
    "    elif col in features.select_dtypes(include=['int64','float64']).columns.drop('income'):\n",
    "        print('\\t\\t\\t\\t\\t***** {} *****'.format(col.upper()))\n",
    "        # Plotting distributions of each column\n",
    "        plt.figure(figsize=(15,5))\n",
    "        plt.subplot(121)\n",
    "        sns.distplot(features[col], color='Purple')\n",
    "        plt.title('Distribution of {}'.format(col))\n",
    "\n",
    "        # Plotting distributions of each column by income level\n",
    "        plt.subplot(122)\n",
    "        sns.boxplot(x='income', y=col, data=features, palette='RdYlGn')\n",
    "        plt.title('Distribution of income by {}'.format(col))\n",
    "    \n",
    "        plt.tight_layout()\n",
    "        plt.show()\n",
    "\n",
    "        # Calculating pvalues from t-test\n",
    "        t_val, p_val = ttest_ind(features[features['income']==0][col],\n",
    "                                features[features['income']==1][col])\n",
    "        p_vals = p_vals.append({'Attribute':col, 'P_value':float(p_val)}, ignore_index=True)\n",
    "    \n",
    "\n",
    "# Printing p-values of Chi-squared tests, sorted by p-values\n",
    "p_vals.sort_values('P_value')"
   ]
  },
  {
   "cell_type": "markdown",
   "metadata": {},
   "source": [
    "From this analysis, all of the p-values for the chi-square or t-tests are significant, with p-values of less than 0.05, and most p-values are 0.00.  Other insights from the data include:\n",
    "- Log age is more normally distributed, and still has significant differences between the income of older and younger people.\n",
    "- From the count plot for categorical capital gains, those people with highly positive capital gains are more likely to have an income of greater than \\$50,000, and those with net negative capital gains have an about equal likelihood of having an income greater than \\$50,000. These insights were hidden in the continuous data.  Additionally, the p-value for the categorical net capital gains is 0.00 whereas the p-value for the continuous data is still highly significant, but greater than 0.00.  For this reason, and based on the count plots, I should keep the categorical values of capital gains, and remove the continuous column.  "
   ]
  },
  {
   "cell_type": "code",
   "execution_count": 36,
   "metadata": {},
   "outputs": [
    {
     "data": {
      "text/html": [
       "<div>\n",
       "<style scoped>\n",
       "    .dataframe tbody tr th:only-of-type {\n",
       "        vertical-align: middle;\n",
       "    }\n",
       "\n",
       "    .dataframe tbody tr th {\n",
       "        vertical-align: top;\n",
       "    }\n",
       "\n",
       "    .dataframe thead th {\n",
       "        text-align: right;\n",
       "    }\n",
       "</style>\n",
       "<table border=\"1\" class=\"dataframe\">\n",
       "  <thead>\n",
       "    <tr style=\"text-align: right;\">\n",
       "      <th></th>\n",
       "      <th>Neg</th>\n",
       "      <th>Neut</th>\n",
       "      <th>Postive</th>\n",
       "      <th>HighPositive</th>\n",
       "    </tr>\n",
       "  </thead>\n",
       "  <tbody>\n",
       "    <tr>\n",
       "      <th>0</th>\n",
       "      <td>0</td>\n",
       "      <td>0</td>\n",
       "      <td>1</td>\n",
       "      <td>0</td>\n",
       "    </tr>\n",
       "    <tr>\n",
       "      <th>1</th>\n",
       "      <td>0</td>\n",
       "      <td>1</td>\n",
       "      <td>0</td>\n",
       "      <td>0</td>\n",
       "    </tr>\n",
       "    <tr>\n",
       "      <th>2</th>\n",
       "      <td>0</td>\n",
       "      <td>1</td>\n",
       "      <td>0</td>\n",
       "      <td>0</td>\n",
       "    </tr>\n",
       "    <tr>\n",
       "      <th>3</th>\n",
       "      <td>0</td>\n",
       "      <td>1</td>\n",
       "      <td>0</td>\n",
       "      <td>0</td>\n",
       "    </tr>\n",
       "    <tr>\n",
       "      <th>4</th>\n",
       "      <td>0</td>\n",
       "      <td>1</td>\n",
       "      <td>0</td>\n",
       "      <td>0</td>\n",
       "    </tr>\n",
       "  </tbody>\n",
       "</table>\n",
       "</div>"
      ],
      "text/plain": [
       "   Neg  Neut  Postive  HighPositive\n",
       "0    0     0        1             0\n",
       "1    0     1        0             0\n",
       "2    0     1        0             0\n",
       "3    0     1        0             0\n",
       "4    0     1        0             0"
      ]
     },
     "execution_count": 36,
     "metadata": {},
     "output_type": "execute_result"
    }
   ],
   "source": [
    "# Removing the continuous net capital gains column\n",
    "features = features.drop('net_cap_gains', axis=1)\n",
    "\n",
    "# Creating dummy columns for categorical net capital gains\n",
    "dummies2 = pd.get_dummies(features.net_cap_gains_cat)\n",
    "dummies2.head()"
   ]
  },
  {
   "cell_type": "markdown",
   "metadata": {},
   "source": [
    "Next, I need to ensure that the potential features are independent from one another.  To visualize and determine this independence between continuous variables, I will use a correlation matrix and heatmap.  "
   ]
  },
  {
   "cell_type": "code",
   "execution_count": 37,
   "metadata": {
    "scrolled": true
   },
   "outputs": [
    {
     "data": {
      "image/png": "[encoded data removed]",
      "text/plain": [
       "<matplotlib.figure.Figure at 0x104605358>"
      ]
     },
     "metadata": {},
     "output_type": "display_data"
    }
   ],
   "source": [
    "# Constructing Correlation Matrix\n",
    "corrmat = features.corr()\n",
    "# Setting up heatmap\n",
    "sns.heatmap(corrmat)\n",
    "plt.show()"
   ]
  },
  {
   "cell_type": "markdown",
   "metadata": {},
   "source": [
    "This is great, according to the data, the continuous variables are independent from one another.  Most models assume that all features are independent from one another, which this confirms. Now I need to combine the features data frame with the two dummy data frames, then I will be ready for modeling!  "
   ]
  },
  {
   "cell_type": "code",
   "execution_count": 38,
   "metadata": {},
   "outputs": [
    {
     "data": {
      "text/html": [
       "<div>\n",
       "<style scoped>\n",
       "    .dataframe tbody tr th:only-of-type {\n",
       "        vertical-align: middle;\n",
       "    }\n",
       "\n",
       "    .dataframe tbody tr th {\n",
       "        vertical-align: top;\n",
       "    }\n",
       "\n",
       "    .dataframe thead th {\n",
       "        text-align: right;\n",
       "    }\n",
       "</style>\n",
       "<table border=\"1\" class=\"dataframe\">\n",
       "  <thead>\n",
       "    <tr style=\"text-align: right;\">\n",
       "      <th></th>\n",
       "      <th>income</th>\n",
       "      <th>log_age</th>\n",
       "      <th>hours_per_week</th>\n",
       "      <th>workclass_Government</th>\n",
       "      <th>workclass_Not_working</th>\n",
       "      <th>workclass_Private</th>\n",
       "      <th>workclass_Self_employed</th>\n",
       "      <th>education_Advanced-degree</th>\n",
       "      <th>education_Bachelors</th>\n",
       "      <th>education_Dropout</th>\n",
       "      <th>...</th>\n",
       "      <th>sex_Female</th>\n",
       "      <th>sex_Male</th>\n",
       "      <th>native_country_Asia</th>\n",
       "      <th>native_country_Europe</th>\n",
       "      <th>native_country_Latin_Am</th>\n",
       "      <th>native_country_United_States</th>\n",
       "      <th>Neg</th>\n",
       "      <th>Neut</th>\n",
       "      <th>Postive</th>\n",
       "      <th>HighPositive</th>\n",
       "    </tr>\n",
       "  </thead>\n",
       "  <tbody>\n",
       "    <tr>\n",
       "      <th>0</th>\n",
       "      <td>0</td>\n",
       "      <td>3.663562</td>\n",
       "      <td>40</td>\n",
       "      <td>1</td>\n",
       "      <td>0</td>\n",
       "      <td>0</td>\n",
       "      <td>0</td>\n",
       "      <td>0</td>\n",
       "      <td>1</td>\n",
       "      <td>0</td>\n",
       "      <td>...</td>\n",
       "      <td>0</td>\n",
       "      <td>1</td>\n",
       "      <td>0</td>\n",
       "      <td>0</td>\n",
       "      <td>0</td>\n",
       "      <td>1</td>\n",
       "      <td>0</td>\n",
       "      <td>0</td>\n",
       "      <td>1</td>\n",
       "      <td>0</td>\n",
       "    </tr>\n",
       "    <tr>\n",
       "      <th>1</th>\n",
       "      <td>0</td>\n",
       "      <td>3.912023</td>\n",
       "      <td>13</td>\n",
       "      <td>0</td>\n",
       "      <td>0</td>\n",
       "      <td>0</td>\n",
       "      <td>1</td>\n",
       "      <td>0</td>\n",
       "      <td>1</td>\n",
       "      <td>0</td>\n",
       "      <td>...</td>\n",
       "      <td>0</td>\n",
       "      <td>1</td>\n",
       "      <td>0</td>\n",
       "      <td>0</td>\n",
       "      <td>0</td>\n",
       "      <td>1</td>\n",
       "      <td>0</td>\n",
       "      <td>1</td>\n",
       "      <td>0</td>\n",
       "      <td>0</td>\n",
       "    </tr>\n",
       "    <tr>\n",
       "      <th>2</th>\n",
       "      <td>0</td>\n",
       "      <td>3.637586</td>\n",
       "      <td>40</td>\n",
       "      <td>0</td>\n",
       "      <td>0</td>\n",
       "      <td>1</td>\n",
       "      <td>0</td>\n",
       "      <td>0</td>\n",
       "      <td>0</td>\n",
       "      <td>0</td>\n",
       "      <td>...</td>\n",
       "      <td>0</td>\n",
       "      <td>1</td>\n",
       "      <td>0</td>\n",
       "      <td>0</td>\n",
       "      <td>0</td>\n",
       "      <td>1</td>\n",
       "      <td>0</td>\n",
       "      <td>1</td>\n",
       "      <td>0</td>\n",
       "      <td>0</td>\n",
       "    </tr>\n",
       "    <tr>\n",
       "      <th>3</th>\n",
       "      <td>0</td>\n",
       "      <td>3.970292</td>\n",
       "      <td>40</td>\n",
       "      <td>0</td>\n",
       "      <td>0</td>\n",
       "      <td>1</td>\n",
       "      <td>0</td>\n",
       "      <td>0</td>\n",
       "      <td>0</td>\n",
       "      <td>1</td>\n",
       "      <td>...</td>\n",
       "      <td>0</td>\n",
       "      <td>1</td>\n",
       "      <td>0</td>\n",
       "      <td>0</td>\n",
       "      <td>0</td>\n",
       "      <td>1</td>\n",
       "      <td>0</td>\n",
       "      <td>1</td>\n",
       "      <td>0</td>\n",
       "      <td>0</td>\n",
       "    </tr>\n",
       "    <tr>\n",
       "      <th>4</th>\n",
       "      <td>0</td>\n",
       "      <td>3.332205</td>\n",
       "      <td>40</td>\n",
       "      <td>0</td>\n",
       "      <td>0</td>\n",
       "      <td>1</td>\n",
       "      <td>0</td>\n",
       "      <td>0</td>\n",
       "      <td>1</td>\n",
       "      <td>0</td>\n",
       "      <td>...</td>\n",
       "      <td>1</td>\n",
       "      <td>0</td>\n",
       "      <td>0</td>\n",
       "      <td>0</td>\n",
       "      <td>1</td>\n",
       "      <td>0</td>\n",
       "      <td>0</td>\n",
       "      <td>1</td>\n",
       "      <td>0</td>\n",
       "      <td>0</td>\n",
       "    </tr>\n",
       "  </tbody>\n",
       "</table>\n",
       "<p>5 rows × 41 columns</p>\n",
       "</div>"
      ],
      "text/plain": [
       "   income   log_age  hours_per_week  workclass_Government  \\\n",
       "0       0  3.663562              40                     1   \n",
       "1       0  3.912023              13                     0   \n",
       "2       0  3.637586              40                     0   \n",
       "3       0  3.970292              40                     0   \n",
       "4       0  3.332205              40                     0   \n",
       "\n",
       "   workclass_Not_working  workclass_Private  workclass_Self_employed  \\\n",
       "0                      0                  0                        0   \n",
       "1                      0                  0                        1   \n",
       "2                      0                  1                        0   \n",
       "3                      0                  1                        0   \n",
       "4                      0                  1                        0   \n",
       "\n",
       "   education_Advanced-degree  education_Bachelors  education_Dropout  \\\n",
       "0                          0                    1                  0   \n",
       "1                          0                    1                  0   \n",
       "2                          0                    0                  0   \n",
       "3                          0                    0                  1   \n",
       "4                          0                    1                  0   \n",
       "\n",
       "       ...       sex_Female  sex_Male  native_country_Asia  \\\n",
       "0      ...                0         1                    0   \n",
       "1      ...                0         1                    0   \n",
       "2      ...                0         1                    0   \n",
       "3      ...                0         1                    0   \n",
       "4      ...                1         0                    0   \n",
       "\n",
       "   native_country_Europe  native_country_Latin_Am  \\\n",
       "0                      0                        0   \n",
       "1                      0                        0   \n",
       "2                      0                        0   \n",
       "3                      0                        0   \n",
       "4                      0                        1   \n",
       "\n",
       "   native_country_United_States  Neg  Neut  Postive  HighPositive  \n",
       "0                             1    0     0        1             0  \n",
       "1                             1    0     1        0             0  \n",
       "2                             1    0     1        0             0  \n",
       "3                             1    0     1        0             0  \n",
       "4                             0    0     1        0             0  \n",
       "\n",
       "[5 rows x 41 columns]"
      ]
     },
     "execution_count": 38,
     "metadata": {},
     "output_type": "execute_result"
    }
   ],
   "source": [
    "# Joining categorical and continuous features together in one data frame\n",
    "features = pd.concat([features.drop('net_cap_gains_cat',axis=1), dummies, dummies2], axis=1)\n",
    "features.head()"
   ]
  },
  {
   "cell_type": "markdown",
   "metadata": {},
   "source": [
    "## Modeling\n",
    "\n",
    "Before beginning to model, I need to identify variables, and split the data into train and test sets for cross validation.  Because my analysis revealed that there were more people who earned over \\$50,000 than under, I have a class imablance that could possibly skew the accuracy results of the modeling. I will under sample the training set to reduce the class imbalance in our target outcome. I will leave the test set as-is to ensure that I am testing the models on a fresh set of data."
   ]
  },
  {
   "cell_type": "code",
   "execution_count": 39,
   "metadata": {},
   "outputs": [
    {
     "name": "stdout",
     "output_type": "stream",
     "text": [
      "Raw Training Set Percent Fraud: 24.9\n",
      "Resampled Training Set Percent Fraud: 50.0\n"
     ]
    }
   ],
   "source": [
    "# Identify variables\n",
    "X = features.drop('income', axis=1)\n",
    "y = features.income\n",
    "\n",
    "# Splitting into train and test sets\n",
    "X_train, X_test, y_train, y_test = train_test_split(X, y, test_size=0.25, random_state=42)\n",
    "\n",
    "#Under sampling \n",
    "from imblearn.under_sampling import RandomUnderSampler\n",
    "\n",
    "rus = RandomUnderSampler(random_state=42)\n",
    "X_rus, y_rus = rus.fit_sample(X=X_train, y=y_train)\n",
    "\n",
    "print('Raw Training Set Percent Fraud: {:.1f}'.format(\n",
    "    len(y_train[y_train == 1])/len(y_train)*100))\n",
    "print('Resampled Training Set Percent Fraud: {}'.format(\n",
    "    len(y_rus[y_rus == 1])/len(y_rus)*100))"
   ]
  },
  {
   "cell_type": "markdown",
   "metadata": {},
   "source": [
    "### Logistic Regression\n",
    "\n",
    "To begin predicting whether a person's income is greater or less than \\$50,000, I will start by using a logistic regression model.  This model will be useful because we can use the logged odds from the results of the model to be able to interpret the results into meaningful, actionable results.  \n",
    "\n",
    "I will start by instantiating and fitting the model using default values.  I will fit the model using the training set, and then test the model's accuracy using the test set.  Because there is no real cost in improperly labeling a person as having an income of over or under \\$50,000, I will use the default accuracy score to assess how well the model predicted the data."
   ]
  },
  {
   "cell_type": "code",
   "execution_count": 40,
   "metadata": {},
   "outputs": [
    {
     "name": "stdout",
     "output_type": "stream",
     "text": [
      "Default Logistic Regression Model\n",
      "Cross Validation Accuracy Scores - Training Set: 0.81631(+/- 0.01)\n",
      "Cross Validation Accuracy Scores - Test Set: 0.85280(+/- 0.02)\n"
     ]
    }
   ],
   "source": [
    "# Instantiating and fitting logistic regression\n",
    "print('Default Logistic Regression Model')\n",
    "logR = LogisticRegression(random_state=42)\n",
    "logR.fit(X_rus, y_rus)\n",
    "\n",
    "# Calculating and reporting scores from cross validation to +/- 2 standard deviations from the mean\n",
    "scores_logR1 = cross_val_score(logR, X_rus, y_rus, cv=10)\n",
    "print('Cross Validation Accuracy Scores - Training Set: {:.5f}(+/- {:.2f})'.format(scores_logR1.mean(), \n",
    "                                                                                 scores_logR1.std()*2))\n",
    "scores_logR1t = cross_val_score(logR, X_test, y_test, cv=10)\n",
    "print('Cross Validation Accuracy Scores - Test Set: {:.5f}(+/- {:.2f})'.format(scores_logR1t.mean(), \n",
    "                                                                                 scores_logR1t.std()*2))"
   ]
  },
  {
   "cell_type": "markdown",
   "metadata": {},
   "source": [
    "This is a pretty good first model! The default values from logistic regression was able to explain the variance in 85 (+/- 2)% of the test set.  This is a fairly small range of two standard deviations from the mean, which means that the scores from the 10 folds of cross validation are all close together.  \n",
    "\n",
    "#### Logistic Regression Optimization\n",
    "Now, let's see if I can improve the overall accuracy of the model through optimizing the parameters by using Grid Search with cross validation. I will optimize the C, or the regularization parameter; the solver, which is the algorithm used in the optimization;, and the penalty, as L1 (LASSO) or L2 (Ridge) regression.  In each instance, I want to add an intercept to the decision function."
   ]
  },
  {
   "cell_type": "code",
   "execution_count": 41,
   "metadata": {},
   "outputs": [
    {
     "name": "stdout",
     "output_type": "stream",
     "text": [
      "Best Score: 0.8171966601527803\n",
      "Best Parameters: {'C': 100, 'fit_intercept': True, 'penalty': 'l1', 'solver': 'liblinear'}\n"
     ]
    }
   ],
   "source": [
    "# Set of parameters to test in Grid Search\n",
    "parameters = [{'C':[0.1,1,10,100,500,800], 'solver':['lbfgs'], 'fit_intercept':[True]},\n",
    "              {'C':[0.1,1,10,100,500,800], 'solver':['newton-cg'], 'fit_intercept':[True]},\n",
    "              {'C':[0.1,1,10,100,500,800,1000], 'solver':['liblinear'], 'penalty':['l1', 'l2'], 'fit_intercept':[True]}]\n",
    "# Instantiating and fitting model through grid search\n",
    "grid_logR = GridSearchCV(logR, param_grid=parameters)\n",
    "grid_logR.fit(X_rus, y_rus)\n",
    "\n",
    "# Printing the best score from the model\n",
    "print('Best Score:', grid_logR.best_score_)\n",
    "\n",
    "# Saving and printing the best parameters from the model\n",
    "best_params = grid_logR.best_params_\n",
    "print('Best Parameters:', best_params)"
   ]
  },
  {
   "cell_type": "markdown",
   "metadata": {},
   "source": [
    "It appears that this best score is approximately the same as the accuracy score from the default logistic regression model.  Using these new best parameters, let's fit another logistic regression model and test to see how these parameters in the model impact the training and test set accuracies. "
   ]
  },
  {
   "cell_type": "code",
   "execution_count": 42,
   "metadata": {},
   "outputs": [
    {
     "name": "stdout",
     "output_type": "stream",
     "text": [
      "Cross Validation Accuracy Scores - Training Set: 0.81640(+/- 0.01)\n",
      "Cross Validation Accuracy Scores - Test Set: 0.85307(+/- 0.01)\n"
     ]
    }
   ],
   "source": [
    "logR_g = LogisticRegression(**best_params, random_state=42)\n",
    "logR_g.fit(X_rus, y_rus)\n",
    "\n",
    "scores_logR_g = cross_val_score(logR_g, X_rus, y_rus, cv=10)\n",
    "print('Cross Validation Accuracy Scores - Training Set: {:.5f}(+/- {:.2f})'.format(scores_logR_g.mean(), \n",
    "                                                                                 scores_logR_g.std()*2))\n",
    "scores_logR_gt = cross_val_score(logR_g, X_test, y_test, cv=10)\n",
    "print('Cross Validation Accuracy Scores - Test Set: {:.5f}(+/- {:.2f})'.format(scores_logR_gt.mean(), \n",
    "                                                                                 scores_logR_gt.std()*2))"
   ]
  },
  {
   "cell_type": "markdown",
   "metadata": {},
   "source": [
    "Wow! After optimization, the accuracy for the training set improved by 0.013%.  This doesn't seem like a lot, but it is still an improvement.  Let's take a look at what the coefficients and intercept values are for this model to then help us interpret what impacts the different demographic indicators have on income.  The logistic regression coefficients represent the log of the odds that the change in the feature makes.  To better interpret these values, I will take the exponentiated value of the coefficients to get the odds ratios of each piece of demographic data."
   ]
  },
  {
   "cell_type": "code",
   "execution_count": 43,
   "metadata": {},
   "outputs": [
    {
     "name": "stdout",
     "output_type": "stream",
     "text": [
      "log(Intercept): [-0.51976212]\n",
      "Intercept: [0.59466199]\n",
      "Features with the most impact on higher income levels\n"
     ]
    },
    {
     "data": {
      "text/html": [
       "<div>\n",
       "<style scoped>\n",
       "    .dataframe tbody tr th:only-of-type {\n",
       "        vertical-align: middle;\n",
       "    }\n",
       "\n",
       "    .dataframe tbody tr th {\n",
       "        vertical-align: top;\n",
       "    }\n",
       "\n",
       "    .dataframe thead th {\n",
       "        text-align: right;\n",
       "    }\n",
       "</style>\n",
       "<table border=\"1\" class=\"dataframe\">\n",
       "  <thead>\n",
       "    <tr style=\"text-align: right;\">\n",
       "      <th></th>\n",
       "      <th>Attribute</th>\n",
       "      <th>log_Coef</th>\n",
       "      <th>Coef</th>\n",
       "    </tr>\n",
       "  </thead>\n",
       "  <tbody>\n",
       "    <tr>\n",
       "      <th>39</th>\n",
       "      <td>HighPositive</td>\n",
       "      <td>2.562355</td>\n",
       "      <td>12.966315</td>\n",
       "    </tr>\n",
       "    <tr>\n",
       "      <th>6</th>\n",
       "      <td>education_Advanced-degree</td>\n",
       "      <td>1.879541</td>\n",
       "      <td>6.550496</td>\n",
       "    </tr>\n",
       "    <tr>\n",
       "      <th>0</th>\n",
       "      <td>log_age</td>\n",
       "      <td>1.520791</td>\n",
       "      <td>4.575843</td>\n",
       "    </tr>\n",
       "    <tr>\n",
       "      <th>7</th>\n",
       "      <td>education_Bachelors</td>\n",
       "      <td>1.290012</td>\n",
       "      <td>3.632828</td>\n",
       "    </tr>\n",
       "    <tr>\n",
       "      <th>10</th>\n",
       "      <td>education_Some-college</td>\n",
       "      <td>0.477872</td>\n",
       "      <td>1.612638</td>\n",
       "    </tr>\n",
       "    <tr>\n",
       "      <th>36</th>\n",
       "      <td>Neg</td>\n",
       "      <td>0.074401</td>\n",
       "      <td>1.077239</td>\n",
       "    </tr>\n",
       "    <tr>\n",
       "      <th>9</th>\n",
       "      <td>education_HS-grad</td>\n",
       "      <td>0.059008</td>\n",
       "      <td>1.060784</td>\n",
       "    </tr>\n",
       "    <tr>\n",
       "      <th>1</th>\n",
       "      <td>hours_per_week</td>\n",
       "      <td>0.032733</td>\n",
       "      <td>1.033275</td>\n",
       "    </tr>\n",
       "    <tr>\n",
       "      <th>11</th>\n",
       "      <td>marital_status_Married</td>\n",
       "      <td>-0.472588</td>\n",
       "      <td>0.623387</td>\n",
       "    </tr>\n",
       "    <tr>\n",
       "      <th>29</th>\n",
       "      <td>race_White</td>\n",
       "      <td>-0.546092</td>\n",
       "      <td>0.579209</td>\n",
       "    </tr>\n",
       "  </tbody>\n",
       "</table>\n",
       "</div>"
      ],
      "text/plain": [
       "                    Attribute  log_Coef       Coef\n",
       "39               HighPositive  2.562355  12.966315\n",
       "6   education_Advanced-degree  1.879541   6.550496\n",
       "0                     log_age  1.520791   4.575843\n",
       "7         education_Bachelors  1.290012   3.632828\n",
       "10     education_Some-college  0.477872   1.612638\n",
       "36                        Neg  0.074401   1.077239\n",
       "9           education_HS-grad  0.059008   1.060784\n",
       "1              hours_per_week  0.032733   1.033275\n",
       "11     marital_status_Married -0.472588   0.623387\n",
       "29                 race_White -0.546092   0.579209"
      ]
     },
     "execution_count": 43,
     "metadata": {},
     "output_type": "execute_result"
    }
   ],
   "source": [
    "# Printing Logistic Regression Intercept\n",
    "print('log(Intercept):', logR_g.intercept_)\n",
    "print('Intercept:', np.exp(logR_g.intercept_))\n",
    "\n",
    "# Creating Data Frame with Features and Logistic Regression Coefficients\n",
    "coefs_lg = pd.concat([pd.DataFrame(X_train.columns), pd.DataFrame(np.transpose(logR_g.coef_))], axis=1)\n",
    "coefs_lg.columns = ['Attribute', 'log_Coef']\n",
    "# Calculating exponentiated coefficients for interpretation\n",
    "coefs_lg['Coef'] = np.exp(coefs_lg['log_Coef'])\n",
    "print('Features with the most impact on higher income levels')\n",
    "coefs_lg.sort_values('Coef', ascending=False).head(10)"
   ]
  },
  {
   "cell_type": "code",
   "execution_count": 44,
   "metadata": {},
   "outputs": [
    {
     "name": "stdout",
     "output_type": "stream",
     "text": [
      "Features with the least impact on higher income levels\n"
     ]
    },
    {
     "data": {
      "text/html": [
       "<div>\n",
       "<style scoped>\n",
       "    .dataframe tbody tr th:only-of-type {\n",
       "        vertical-align: middle;\n",
       "    }\n",
       "\n",
       "    .dataframe tbody tr th {\n",
       "        vertical-align: top;\n",
       "    }\n",
       "\n",
       "    .dataframe thead th {\n",
       "        text-align: right;\n",
       "    }\n",
       "</style>\n",
       "<table border=\"1\" class=\"dataframe\">\n",
       "  <thead>\n",
       "    <tr style=\"text-align: right;\">\n",
       "      <th></th>\n",
       "      <th>Attribute</th>\n",
       "      <th>log_Coef</th>\n",
       "      <th>Coef</th>\n",
       "    </tr>\n",
       "  </thead>\n",
       "  <tbody>\n",
       "    <tr>\n",
       "      <th>22</th>\n",
       "      <td>occupation_Priv-house-serv</td>\n",
       "      <td>-7.572855</td>\n",
       "      <td>0.000514</td>\n",
       "    </tr>\n",
       "    <tr>\n",
       "      <th>3</th>\n",
       "      <td>workclass_Not_working</td>\n",
       "      <td>-5.114101</td>\n",
       "      <td>0.006011</td>\n",
       "    </tr>\n",
       "    <tr>\n",
       "      <th>12</th>\n",
       "      <td>marital_status_Never-married</td>\n",
       "      <td>-3.132356</td>\n",
       "      <td>0.043615</td>\n",
       "    </tr>\n",
       "    <tr>\n",
       "      <th>18</th>\n",
       "      <td>occupation_Farming-fishing</td>\n",
       "      <td>-2.826565</td>\n",
       "      <td>0.059216</td>\n",
       "    </tr>\n",
       "    <tr>\n",
       "      <th>13</th>\n",
       "      <td>marital_status_No_longer_married</td>\n",
       "      <td>-2.703574</td>\n",
       "      <td>0.066966</td>\n",
       "    </tr>\n",
       "  </tbody>\n",
       "</table>\n",
       "</div>"
      ],
      "text/plain": [
       "                           Attribute  log_Coef      Coef\n",
       "22        occupation_Priv-house-serv -7.572855  0.000514\n",
       "3              workclass_Not_working -5.114101  0.006011\n",
       "12      marital_status_Never-married -3.132356  0.043615\n",
       "18        occupation_Farming-fishing -2.826565  0.059216\n",
       "13  marital_status_No_longer_married -2.703574  0.066966"
      ]
     },
     "execution_count": 44,
     "metadata": {},
     "output_type": "execute_result"
    }
   ],
   "source": [
    "print('Features with the least impact on higher income levels')\n",
    "coefs_lg.sort_values('Coef', ascending=True).head(5)"
   ]
  },
  {
   "cell_type": "markdown",
   "metadata": {},
   "source": [
    "According to the model, there are factors that have more or less impact on a peron's probability of earning more than \\$50,000 a year.  The following are a sampling of what demographic traits impact a person's probability for higher income, along with the odds that that trait brings.  In this analysis, I will approximate over \\$50,000 with having higher earnings.\n",
    "\n",
    "__Improved Proabability for Higher Earnings__\n",
    "- Having a highly positive capital gain gives you a 13 times higher probability for higher earnings, and having a net negative capital gains for the year gives you a 1.1 times higher probability for higher earnings.\n",
    "- Earning an advanced degree brings a 6.5 times higher probability for higher earnings, whereas a Bachelors provides a 3.6 times higher probability for higher earnings.\n",
    "- Every 10 years older a person becomes is related to a 4.6 times higher probability for higher earnings.\n",
    "\n",
    "__Reduced Probability for Higher Earnings__\n",
    "- Being in private house service gives you 0.0.0005 times higher probability for higher earnings, whereas being a farmer or fisherman gives you a 0.05 times higher probability for higher earnings, and not working means you have a 0.006 times higher probability for higher earnings.\n",
    "- No longer being married gives you 0.06 times higher probability for higher earnings, whereas never being married means you have a 0.04 times higher probability for higher earnings.\n"
   ]
  },
  {
   "cell_type": "markdown",
   "metadata": {},
   "source": [
    "### Support Vector Machine Classifier\n",
    "Now that we have identified how some of the features impact a person's probability of earning over \\$50,000 in a year, let's see if we can improve the accuracy of the predictions using a support vector machine classifier.  This model calculates the optimal hyperplane to categorize samples.\n",
    "\n",
    "I again will start by instantiating and fitting the model using default values.  I will fit the model using the training set, and then test the model's accuracy using the test set. "
   ]
  },
  {
   "cell_type": "code",
   "execution_count": 60,
   "metadata": {},
   "outputs": [],
   "source": [
    "t0 = time.time()"
   ]
  },
  {
   "cell_type": "code",
   "execution_count": 61,
   "metadata": {},
   "outputs": [
    {
     "name": "stdout",
     "output_type": "stream",
     "text": [
      "Cross Validation Accuracy Scores - Training Set: 0.798(+/- 0.02)\n",
      "Cross Validation Accuracy Scores - Test Set: 0.841(+/- 0.02)\n"
     ]
    }
   ],
   "source": [
    "#instantiating and fitting the model\n",
    "svc = SVC(random_state=42)\n",
    "svc.fit(X_rus, y_rus)\n",
    "\n",
    "# Calculating and reporting scores from cross validation to +/- 2 standard deviations from the mean\n",
    "scores_svc = cross_val_score(svc, X_rus, y_rus, cv=10)\n",
    "print('Cross Validation Accuracy Scores - Training Set: {:.3f}(+/- {:.2f})'.format(scores_svc.mean(), \n",
    "                                                                                 scores_svc.std()*2))\n",
    "scores_svct = cross_val_score(svc, X_test, y_test, cv=10)\n",
    "print('Cross Validation Accuracy Scores - Test Set: {:.3f}(+/- {:.2f})'.format(scores_svct.mean(), \n",
    "                                                                                 scores_svct.std()*2))"
   ]
  },
  {
   "cell_type": "code",
   "execution_count": 62,
   "metadata": {},
   "outputs": [
    {
     "name": "stdout",
     "output_type": "stream",
     "text": [
      "Time: 69.77996015548706\n"
     ]
    }
   ],
   "source": [
    "t1 = time.time()\n",
    "print('Time:', t1-t0)"
   ]
  },
  {
   "cell_type": "markdown",
   "metadata": {},
   "source": [
    "These values of accuracy for the training and test sets are not quite as good as for the logistic regression model.  This was only for the default values of the SVC model. \n",
    "\n",
    "#### Support Vector Machine Classifier Optimization\n",
    "Now, let's see if I can improve the overall accuracy of the model through optimizing the parameters by using Grid Search with cross validation. I will optimize the C, or the regularization parameter; the kernel, which specifies the higher dimension that the model uses to find the hyperplane;, and the gamma, which is how far the influence of a single training sample reaches from the hyperplane. "
   ]
  },
  {
   "cell_type": "code",
   "execution_count": 63,
   "metadata": {},
   "outputs": [],
   "source": [
    "t0 = time.time()"
   ]
  },
  {
   "cell_type": "code",
   "execution_count": null,
   "metadata": {},
   "outputs": [],
   "source": [
    "# Set of parameters to test for best score in Grid Search CV\n",
    "parameters = [{'kernel':['rbf'], 'C':[0.01,0.1,1,10], 'gamma':[1e-4, 1e-3, 1e-2]},\n",
    "              {'kernel':['linear'], 'C':[0.01,0.1,1,10]},\n",
    "             {'kernel':['poly'], 'C':[0.01,0.1,1,10], 'gamma':[1e-4, 1e-3, 1e-2]}]\n",
    "\n",
    "#fitting model and printing best parameters and score from model\n",
    "grid_svc = GridSearchCV(svc, param_grid=parameters)\n",
    "grid_svc.fit(X_rus, y_rus)\n",
    "print('Best Score:', grid_svc.best_params_)\n",
    "best_params_svc = grid_svc.best_score_\n",
    "print('Best Parameters:', best_params_svc)"
   ]
  },
  {
   "cell_type": "code",
   "execution_count": null,
   "metadata": {},
   "outputs": [],
   "source": [
    "t1 = time.time()\n",
    "print('Time:', t1-t0)"
   ]
  },
  {
   "cell_type": "markdown",
   "metadata": {},
   "source": [
    "Now that we know what best parameters to use, let's use these parameters for a new SVC model and fit the model to the training data, then test the accuracy of the test set."
   ]
  },
  {
   "cell_type": "code",
   "execution_count": null,
   "metadata": {},
   "outputs": [],
   "source": [
    "t0 = time.time()"
   ]
  },
  {
   "cell_type": "code",
   "execution_count": null,
   "metadata": {},
   "outputs": [],
   "source": [
    "#using best parameters to fit and test accuracy of train and test sets\n",
    "svc2 = SVC(**best_params_svc, random_state=42)\n",
    "svc2.fit(X_rus, y_rus)\n",
    "\n",
    "# Calculating and reporting scores from cross validation to +/- 2 standard deviations from the mean\n",
    "scores_svc2 = cross_val_score(svc2, X_rus, y_rus, cv=10)\n",
    "print('Cross Validation Accuracy Scores - Training Set: {:.3f}(+/- {:.2f})'.format(scores_svc2.mean(), \n",
    "                                                                                 scores_svc2.std()*2))\n",
    "scores_svc2t = cross_val_score(svc2, X_test, y_test, cv=10)\n",
    "print('Cross Validation Accuracy Scores - Test Set: {:.3f}(+/- {:.2f})'.format(scores_svc2t.mean(), \n",
    "                                                                                 scores_svc2t.std()*2))"
   ]
  },
  {
   "cell_type": "code",
   "execution_count": null,
   "metadata": {},
   "outputs": [],
   "source": [
    "t1 = time.time()\n",
    "print('Time:', t1-t0)"
   ]
  },
  {
   "cell_type": "markdown",
   "metadata": {},
   "source": [
    "sflhslifgjsi FILL THIS IN HERE\n",
    "\n",
    "### Random Forest Classifier\n",
    "The last model I will use to predict what demographic indicators are related to higher incomes is the random forest classifier model.  This model creates a set of decision trees and then aggregates the votes from all of the decision trees to decide the class of the test case.  \n",
    "\n",
    "I will again start by instantiating and fitting the model using default values.  I will fit the model using the training set, and then test the model's accuracy using the test set. "
   ]
  },
  {
   "cell_type": "code",
   "execution_count": 48,
   "metadata": {},
   "outputs": [
    {
     "name": "stdout",
     "output_type": "stream",
     "text": [
      "Cross Validation Accuracy Scores - Training Set: 0.786(+/- 0.01)\n",
      "Cross Validation Accuracy Scores - Test Set: 0.830(+/- 0.01)\n"
     ]
    }
   ],
   "source": [
    "#instantiating and fitting default model\n",
    "rfc = RandomForestClassifier(random_state=42)\n",
    "rfc.fit(X_rus, y_rus)\n",
    "\n",
    "# Calculating and reporting scores from cross validation to +/- 2 standard deviations from the mean\n",
    "scores_rfc1 = cross_val_score(rfc, X_rus, y_rus, cv=10)\n",
    "print('Cross Validation Accuracy Scores - Training Set: {:.3f}(+/- {:.2f})'.format(scores_rfc1.mean(), \n",
    "                                                                      (scores_rfc1.std()*2)))\n",
    "scores_rfc1t = cross_val_score(rfc, X_test, y_test, cv=10)\n",
    "print('Cross Validation Accuracy Scores - Test Set: {:.3f}(+/- {:.2f})'.format(scores_rfc1t.mean(), \n",
    "                                                                                 scores_rfc1t.std()*2))"
   ]
  },
  {
   "cell_type": "markdown",
   "metadata": {},
   "source": [
    "With the default settings of the Random Forest model, the accuracy on the test set was 83 (+/- 1)%.  This is 2 percent lower accuracy than the logistic regression models, but again this was from the default settings.  Now, let's try and improve that accuracy.\n",
    "\n",
    "#### Random Forest Classifier Optimization\n",
    "Now, let's see if I can improve the overall accuracy of the model through optimizing the parameters by using Grid Search with cross validation. I will optimize the number of estimators, meaning number of trees used to aggregate the class; the number of features used to consider the best split; the minimum samples split, which indicates the number of samples used to find a node; whether or not bootstrap samples are used; and the maximum depth of the trees, indicating how many branches the tree has. "
   ]
  },
  {
   "cell_type": "code",
   "execution_count": 53,
   "metadata": {},
   "outputs": [],
   "source": [
    "t0 = time.time()"
   ]
  },
  {
   "cell_type": "code",
   "execution_count": 54,
   "metadata": {},
   "outputs": [
    {
     "name": "stdout",
     "output_type": "stream",
     "text": [
      "Best Score: 0.8173743116006396\n",
      "Best Parameters: {'bootstrap': False, 'max_depth': 8, 'max_features': 'auto', 'min_samples_split': 20, 'n_estimators': 100}\n"
     ]
    }
   ],
   "source": [
    "# Set of parameters to serach through for best score in Grid Search CV\n",
    "parameters = {'n_estimators':[10,100,500],\n",
    "             'max_features':['auto', 'sqrt', 'log2'],\n",
    "             'min_samples_split':[2,8,20],\n",
    "             'bootstrap':[True, False],\n",
    "             'max_depth':[4,5,6,7,8]}\n",
    "# Instantiating and fitting Grid Search, then printing best score and best parameters\n",
    "grid_rfc = GridSearchCV(rfc, param_grid=parameters, cv=5)\n",
    "grid_rfc.fit(X_rus, y_rus)\n",
    "print('Best Score:', grid_rfc.best_score_)\n",
    "best_params_rfc = grid_rfc.best_params_\n",
    "print('Best Parameters:', best_params_rfc)"
   ]
  },
  {
   "cell_type": "code",
   "execution_count": 55,
   "metadata": {},
   "outputs": [
    {
     "name": "stdout",
     "output_type": "stream",
     "text": [
      "Time: 1547.6342408657074\n"
     ]
    }
   ],
   "source": [
    "t1 = time.time()\n",
    "print('Time:', t1-t0)"
   ]
  },
  {
   "cell_type": "markdown",
   "metadata": {},
   "source": [
    "Now that we know what best parameters to use, let's use these parameters for a new random forest classifier model and fit the model to the training data, then test the accuracy of the test set."
   ]
  },
  {
   "cell_type": "code",
   "execution_count": 59,
   "metadata": {},
   "outputs": [
    {
     "name": "stdout",
     "output_type": "stream",
     "text": [
      "Cross Validation Accuracy Scores - Training Set: 0.818(+/- 0.02)\n",
      "Cross Validation Accuracy Scores - Test Set: 0.85121(+/- 0.02)\n"
     ]
    }
   ],
   "source": [
    "#instantiating model with best parameters\n",
    "rfc2 = RandomForestClassifier(**best_params_rfc, random_state=42)\n",
    "rfc2.fit(X_rus, y_rus)\n",
    "\n",
    "# Calculating and reporting scores from cross validation to +/- 2 standard deviations from the mean\n",
    "scores_rfc2 = cross_val_score(rfc2, X_rus, y_rus, cv=10)\n",
    "print('Cross Validation Accuracy Scores - Training Set: {:.3f}(+/- {:.2f})'.format(scores_rfc2.mean(), \n",
    "                                                                      scores_rfc2.std()*2))\n",
    "scores_rfc2t = cross_val_score(rfc2, X_test, y_test, cv=10)\n",
    "print('Cross Validation Accuracy Scores - Test Set: {:.5f}(+/- {:.2f})'.format(scores_rfc2t.mean(), \n",
    "                                                                      scores_rfc2t.std()*2))"
   ]
  },
  {
   "cell_type": "markdown",
   "metadata": {},
   "source": [
    "NOTE ABOUT INTERPRETATION OF MODEL\n",
    "\n",
    "Might want feature importances here too, depending on fit of model\n"
   ]
  },
  {
   "cell_type": "markdown",
   "metadata": {},
   "source": [
    "## Conclusion\n",
    "\n",
    "For this capstone project, I wanted to build models that were able to predict if a person's income is over \\$50,000 in a year based on their demographic information.  The demographic information I used and engineered to perform these predictions were age, the number of hours per week worked, if their net capital gains was highly positive, positive, negative, or neutral.  I also used a person's level of education, marital status, occupation, sex, working class, race, and native country.  Using these features, I created logistic regression models, support vector machine classifiers, and random forest models to predict whether a person would have an income of over \\$50,000.  I found that the three biggest indicators of a person having a higher income were having capital either capital gains or capital losses, earning a degree, whether a Bachelor's and/or another advanced degree, and age.  This definitely supports the claims that I have given students that education is a great source of upward mobility.  Unsurprisingly, net highly positive capital gains were related to higher incomes, but what was surprising was the fact that net negative capital gains had a decent impact on earning more.  Because capital gains OR losses both require that a person has and uses some amount of disposable income investing in something, this makes sense because a person could have money to invest in the stock market, for example, but then they could lose money there.  This doesn't negate the fact that they had extra money to invest in the first place.  \n",
    "\n",
    "SOME KIND OF NOTE ABOUT ACCURACIES OF MODELS AND THE BEST MODEL FOR THIS DATA"
   ]
  },
  {
   "cell_type": "code",
   "execution_count": null,
   "metadata": {},
   "outputs": [],
   "source": []
  }
 ],
 "metadata": {
  "kernelspec": {
   "display_name": "Python 3",
   "language": "python",
   "name": "python3"
  },
  "language_info": {
   "codemirror_mode": {
    "name": "ipython",
    "version": 3
   },
   "file_extension": ".py",
   "mimetype": "text/x-python",
   "name": "python",
   "nbconvert_exporter": "python",
   "pygments_lexer": "ipython3",
   "version": "3.6.2"
  }
 },
 "nbformat": 4,
 "nbformat_minor": 2
}
